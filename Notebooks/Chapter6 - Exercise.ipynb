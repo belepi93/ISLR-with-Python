{
 "cells": [
  {
   "cell_type": "markdown",
   "metadata": {},
   "source": [
    "# Chapter6 - Exercise"
   ]
  },
  {
   "cell_type": "code",
   "execution_count": 2,
   "metadata": {},
   "outputs": [
    {
     "name": "stderr",
     "output_type": "stream",
     "text": [
      "/Users/Young/anaconda3/lib/python3.6/site-packages/statsmodels/compat/pandas.py:56: FutureWarning: The pandas.core.datetools module is deprecated and will be removed in a future version. Please use the pandas.tseries module instead.\n",
      "  from pandas.core import datetools\n"
     ]
    }
   ],
   "source": [
    "import pandas as pd\n",
    "import numpy as np\n",
    "import matplotlib.pyplot as plt\n",
    "import seaborn as sns\n",
    "import itertools\n",
    "import statsmodels.api as sm\n",
    "\n",
    "from sklearn import model_selection\n",
    "from sklearn.preprocessing import scale, PolynomialFeatures\n",
    "from sklearn.metrics import mean_squared_error\n",
    "from sklearn.model_selection import train_test_split, KFold, cross_val_score\n",
    "from sklearn.linear_model import LinearRegression, Ridge, RidgeCV, Lasso, LassoCV\n",
    "from sklearn.decomposition import PCA\n",
    "from sklearn.cross_decomposition import PLSRegression\n",
    "\n",
    "%matplotlib inline\n",
    "plt.style.use('seaborn-whitegrid')"
   ]
  },
  {
   "cell_type": "markdown",
   "metadata": {},
   "source": [
    "# 1\n",
    "(a)\n",
    "Best Subset method always have the smallest training RSS since it considers all possible combinations of k predictors but other methods have path dependency. \n",
    "\n",
    "(b)\n",
    "Best Subset method is more likely to have the smallest test RSS since it considers all possible combinations of k predictors.\n",
    "\n",
    "(c)\n",
    "1. True\n",
    "2. True\n",
    "3. False\n",
    "4. False\n",
    "5. False"
   ]
  },
  {
   "cell_type": "markdown",
   "metadata": {},
   "source": [
    "# 2\n",
    "**(a)** (iii) is true. Since lasso is contrained by its penalty term, it is less flexible than least squares. lasso will give improved prediction when its decrease in varaince is larger than increase in bias.\n",
    "\n",
    "**(b)** (iii) is true. There is no difference between ridge regression and lasso except for norm in their penalty terms.\n",
    "\n",
    "**(c)** (ii) is true."
   ]
  },
  {
   "cell_type": "markdown",
   "metadata": {},
   "source": [
    "# 3\n",
    "**(a)** (iv) is True. Training RSS will continue to decrease until it reaches training RSS of least squares.\n",
    "\n",
    "**(b)** (ii) is True. When s = 0, all beta's are zero so that test RSS will be large. But as s increases, non-zero beta's will fit well on test data. But as s increases further, lasso beta coefficients will be same as OLS estimates and test error will increase.\n",
    "\n",
    "**(c)** (iii) is True. As s increases, the model will include more $\\beta$'s which are dependent on training data. So variance increases as s increases.\n",
    "\n",
    "**(d)** (iv) is True. As s increases, constraint becomes less important so that model will fit data well, which leads to the decrease in bias.\n",
    "\n",
    "**(e)** (v) is True. irreducible Error is model independent so it will remain constant."
   ]
  },
  {
   "cell_type": "markdown",
   "metadata": {},
   "source": [
    "# 4\n",
    "**(a)** (iii) is True. Training RSS will countinue to increase since $\\beta $ will decrease to zero from OLS $\\beta$\n",
    "\n",
    "**(b)** (ii) is True. Since OLS overfits data, constraint will prevent models from overfitting which leads to the decrease in test RSS. But as it goes further to zero, the model becomes too simplified and test RSS will increase.\n",
    "\n",
    "**(c)** (iv) is True. As $\\lambda$ increases, models get simplified and their variance decreases steadily.\n",
    "\n",
    "**(d)** (iii) is True. As $\\lambda$ increases, coefficients from models gets more different from OLS estimates which have minimum bias.\n",
    "\n",
    "**(e)** (v) is True. Irreducible error is model independent."
   ]
  },
  {
   "cell_type": "markdown",
   "metadata": {},
   "source": [
    "# 6\n",
    "## (a)"
   ]
  },
  {
   "cell_type": "code",
   "execution_count": 3,
   "metadata": {
    "collapsed": true
   },
   "outputs": [],
   "source": [
    "y = 1\n",
    "lambda_ = 0.5\n",
    "betas = np.linspace(-3,3,100)\n",
    "def func(beta):\n",
    "    return (y - beta)**2 + lambda_*beta**2"
   ]
  },
  {
   "cell_type": "code",
   "execution_count": 4,
   "metadata": {
    "scrolled": false
   },
   "outputs": [
    {
     "data": {
      "text/plain": [
       "[<matplotlib.lines.Line2D at 0x1c0ab626a0>]"
      ]
     },
     "execution_count": 4,
     "metadata": {},
     "output_type": "execute_result"
    },
    {
     "data": {
      "image/png": "[encoded data removed]",
      "text/plain": [
       "<matplotlib.figure.Figure at 0x1c0ab62668>"
      ]
     },
     "metadata": {},
     "output_type": "display_data"
    }
   ],
   "source": [
    "plt.plot(betas, func(betas))\n",
    "plt.plot(y/(1+lambda_), func(y/(1+lambda_)), \"or\")"
   ]
  },
  {
   "cell_type": "markdown",
   "metadata": {},
   "source": [
    "## (b)"
   ]
  },
  {
   "cell_type": "code",
   "execution_count": 5,
   "metadata": {
    "collapsed": true
   },
   "outputs": [],
   "source": [
    "y = 1\n",
    "lambda_ = 1\n",
    "betas = np.linspace(-3,3,100)\n",
    "def func(beta):\n",
    "    return (y - beta)**2 + lambda_ * abs(beta)"
   ]
  },
  {
   "cell_type": "code",
   "execution_count": 6,
   "metadata": {},
   "outputs": [
    {
     "data": {
      "text/plain": [
       "[<matplotlib.lines.Line2D at 0x101cc15c0>]"
      ]
     },
     "execution_count": 6,
     "metadata": {},
     "output_type": "execute_result"
    },
    {
     "data": {
      "image/png": "[encoded data removed]",
      "text/plain": [
       "<matplotlib.figure.Figure at 0x1c0ab7e198>"
      ]
     },
     "metadata": {},
     "output_type": "display_data"
    }
   ],
   "source": [
    "plt.plot(betas, func(betas))\n",
    "plt.plot(y - lambda_/2, func(y - lambda_/2), \"or\")"
   ]
  },
  {
   "cell_type": "markdown",
   "metadata": {},
   "source": [
    "# 8\n",
    "## (a)"
   ]
  },
  {
   "cell_type": "code",
   "execution_count": 7,
   "metadata": {
    "collapsed": true
   },
   "outputs": [],
   "source": [
    "np.random.seed(1)\n",
    "X = np.random.randn(100).reshape(-1,1)\n",
    "e = np.random.randn(100).reshape(-1,1)"
   ]
  },
  {
   "cell_type": "markdown",
   "metadata": {},
   "source": [
    "## (b)"
   ]
  },
  {
   "cell_type": "code",
   "execution_count": 8,
   "metadata": {
    "collapsed": true
   },
   "outputs": [],
   "source": [
    "y = 3 + 2*X -3*np.power(X,2) + 0.3*np.power(X,3) + e"
   ]
  },
  {
   "cell_type": "markdown",
   "metadata": {},
   "source": [
    "## (c)"
   ]
  },
  {
   "cell_type": "code",
   "execution_count": 9,
   "metadata": {
    "collapsed": true
   },
   "outputs": [],
   "source": [
    "X_poly = pd.DataFrame(PolynomialFeatures(10).fit_transform(X))"
   ]
  },
  {
   "cell_type": "code",
   "execution_count": 9,
   "metadata": {
    "collapsed": true
   },
   "outputs": [],
   "source": [
    "def process_subset(features):\n",
    "    # BIC, adj_r2\n",
    "    regr = sm.OLS(y, X_poly[list(features)]).fit()\n",
    "    bic = regr.bic\n",
    "    adj_r2 = regr.rsquared_adj\n",
    "    RSS = ((regr.predict(X_poly[list(features)]).values.reshape(-1,1) - y) ** 2).sum()\n",
    "    \n",
    "    return {\"BIC\": bic, \"Adj_r2\": adj_r2, \"RSS\": RSS, \"Model\": regr}\n",
    "\n",
    "def get_best(k):\n",
    "    results = []\n",
    "    for combo in itertools.combinations(range(1,11), k):\n",
    "        results.append(process_subset([0]+list(combo)))\n",
    "        \n",
    "    results = pd.DataFrame(results)\n",
    "    max_adj_r2 = results.loc[results['Adj_r2'].idxmax()]\n",
    "    min_bic = results.loc[results['BIC'].idxmin()]\n",
    "    \n",
    "    return [max_adj_r2, min_bic]"
   ]
  },
  {
   "cell_type": "code",
   "execution_count": 10,
   "metadata": {
    "collapsed": true
   },
   "outputs": [],
   "source": [
    "# This will take some time.\n",
    "adj_r2 = []\n",
    "bic = []\n",
    "for i in range(1, 11):\n",
    "    best = get_best(i)\n",
    "    adj_r2.append(best[0])\n",
    "    bic.append(best[1])"
   ]
  },
  {
   "cell_type": "code",
   "execution_count": 11,
   "metadata": {
    "collapsed": true
   },
   "outputs": [],
   "source": [
    "adj_r2 = pd.DataFrame(adj_r2, index=range(1,11))\n",
    "bic = pd.DataFrame(bic, index=range(1,11))"
   ]
  },
  {
   "cell_type": "code",
   "execution_count": 12,
   "metadata": {
    "scrolled": false
   },
   "outputs": [
    {
     "data": {
      "text/plain": [
       "[<matplotlib.lines.Line2D at 0x1c0f9124e0>]"
      ]
     },
     "execution_count": 12,
     "metadata": {},
     "output_type": "execute_result"
    },
    {
     "data": {
      "image/png": "[encoded data removed]",
      "text/plain": [
       "<matplotlib.figure.Figure at 0x1c0f7818d0>"
      ]
     },
     "metadata": {},
     "output_type": "display_data"
    }
   ],
   "source": [
    "fig, axes = plt.subplots(1,2, figsize=(12,6))\n",
    "ax1, ax2 = axes\n",
    "\n",
    "# Left Plot\n",
    "ax1.plot(adj_r2['Adj_r2'])\n",
    "argmax = adj_r2['Adj_r2'].idxmax()\n",
    "ax1.plot(argmax, adj_r2['Adj_r2'].max(), \"xr\")\n",
    "\n",
    "# Right Plot\n",
    "ax2.plot(bic['BIC'])\n",
    "argmin = bic['BIC'].idxmin()\n",
    "ax2.plot(argmin, bic['BIC'].min(), \"xr\")"
   ]
  },
  {
   "cell_type": "markdown",
   "metadata": {},
   "source": [
    "As you can see below, the best model obtained accroding to BIC, and adjusted $R^{2}$ are same."
   ]
  },
  {
   "cell_type": "code",
   "execution_count": 13,
   "metadata": {
    "scrolled": true
   },
   "outputs": [
    {
     "data": {
      "text/html": [
       "<div>\n",
       "<style scoped>\n",
       "    .dataframe tbody tr th:only-of-type {\n",
       "        vertical-align: middle;\n",
       "    }\n",
       "\n",
       "    .dataframe tbody tr th {\n",
       "        vertical-align: top;\n",
       "    }\n",
       "\n",
       "    .dataframe thead th {\n",
       "        text-align: right;\n",
       "    }\n",
       "</style>\n",
       "<table border=\"1\" class=\"dataframe\">\n",
       "  <thead>\n",
       "    <tr style=\"text-align: right;\">\n",
       "      <th></th>\n",
       "      <th>Adj_r2</th>\n",
       "      <th>BIC</th>\n",
       "      <th>Model</th>\n",
       "      <th>RSS</th>\n",
       "    </tr>\n",
       "  </thead>\n",
       "  <tbody>\n",
       "    <tr>\n",
       "      <th>1</th>\n",
       "      <td>0.569598</td>\n",
       "      <td>491.292712</td>\n",
       "      <td>&lt;statsmodels.regression.linear_model.Regressio...</td>\n",
       "      <td>726.411627</td>\n",
       "    </tr>\n",
       "    <tr>\n",
       "      <th>2</th>\n",
       "      <td>0.931164</td>\n",
       "      <td>311.572199</td>\n",
       "      <td>&lt;statsmodels.regression.linear_model.Regressio...</td>\n",
       "      <td>114.991706</td>\n",
       "    </tr>\n",
       "    <tr>\n",
       "      <th>3</th>\n",
       "      <td>0.948702</td>\n",
       "      <td>285.734557</td>\n",
       "      <td>&lt;statsmodels.regression.linear_model.Regressio...</td>\n",
       "      <td>84.811563</td>\n",
       "    </tr>\n",
       "    <tr>\n",
       "      <th>4</th>\n",
       "      <td>0.951225</td>\n",
       "      <td>284.249198</td>\n",
       "      <td>&lt;statsmodels.regression.linear_model.Regressio...</td>\n",
       "      <td>79.800246</td>\n",
       "    </tr>\n",
       "    <tr>\n",
       "      <th>5</th>\n",
       "      <td>0.950924</td>\n",
       "      <td>288.410385</td>\n",
       "      <td>&lt;statsmodels.regression.linear_model.Regressio...</td>\n",
       "      <td>79.446732</td>\n",
       "    </tr>\n",
       "    <tr>\n",
       "      <th>6</th>\n",
       "      <td>0.950908</td>\n",
       "      <td>291.978363</td>\n",
       "      <td>&lt;statsmodels.regression.linear_model.Regressio...</td>\n",
       "      <td>78.626975</td>\n",
       "    </tr>\n",
       "    <tr>\n",
       "      <th>7</th>\n",
       "      <td>0.951064</td>\n",
       "      <td>295.185248</td>\n",
       "      <td>&lt;statsmodels.regression.linear_model.Regressio...</td>\n",
       "      <td>77.535196</td>\n",
       "    </tr>\n",
       "    <tr>\n",
       "      <th>8</th>\n",
       "      <td>0.950810</td>\n",
       "      <td>299.215482</td>\n",
       "      <td>&lt;statsmodels.regression.linear_model.Regressio...</td>\n",
       "      <td>77.090698</td>\n",
       "    </tr>\n",
       "    <tr>\n",
       "      <th>9</th>\n",
       "      <td>0.950418</td>\n",
       "      <td>303.509673</td>\n",
       "      <td>&lt;statsmodels.regression.linear_model.Regressio...</td>\n",
       "      <td>76.851334</td>\n",
       "    </tr>\n",
       "    <tr>\n",
       "      <th>10</th>\n",
       "      <td>0.950091</td>\n",
       "      <td>307.654182</td>\n",
       "      <td>&lt;statsmodels.regression.linear_model.Regressio...</td>\n",
       "      <td>76.498124</td>\n",
       "    </tr>\n",
       "  </tbody>\n",
       "</table>\n",
       "</div>"
      ],
      "text/plain": [
       "      Adj_r2         BIC                                              Model  \\\n",
       "1   0.569598  491.292712  <statsmodels.regression.linear_model.Regressio...   \n",
       "2   0.931164  311.572199  <statsmodels.regression.linear_model.Regressio...   \n",
       "3   0.948702  285.734557  <statsmodels.regression.linear_model.Regressio...   \n",
       "4   0.951225  284.249198  <statsmodels.regression.linear_model.Regressio...   \n",
       "5   0.950924  288.410385  <statsmodels.regression.linear_model.Regressio...   \n",
       "6   0.950908  291.978363  <statsmodels.regression.linear_model.Regressio...   \n",
       "7   0.951064  295.185248  <statsmodels.regression.linear_model.Regressio...   \n",
       "8   0.950810  299.215482  <statsmodels.regression.linear_model.Regressio...   \n",
       "9   0.950418  303.509673  <statsmodels.regression.linear_model.Regressio...   \n",
       "10  0.950091  307.654182  <statsmodels.regression.linear_model.Regressio...   \n",
       "\n",
       "           RSS  \n",
       "1   726.411627  \n",
       "2   114.991706  \n",
       "3    84.811563  \n",
       "4    79.800246  \n",
       "5    79.446732  \n",
       "6    78.626975  \n",
       "7    77.535196  \n",
       "8    77.090698  \n",
       "9    76.851334  \n",
       "10   76.498124  "
      ]
     },
     "execution_count": 13,
     "metadata": {},
     "output_type": "execute_result"
    }
   ],
   "source": [
    "adj_r2"
   ]
  },
  {
   "cell_type": "code",
   "execution_count": 14,
   "metadata": {
    "scrolled": true
   },
   "outputs": [
    {
     "data": {
      "text/html": [
       "<table class=\"simpletable\">\n",
       "<caption>OLS Regression Results</caption>\n",
       "<tr>\n",
       "  <th>Dep. Variable:</th>            <td>y</td>        <th>  R-squared:         </th> <td>   0.953</td>\n",
       "</tr>\n",
       "<tr>\n",
       "  <th>Model:</th>                   <td>OLS</td>       <th>  Adj. R-squared:    </th> <td>   0.951</td>\n",
       "</tr>\n",
       "<tr>\n",
       "  <th>Method:</th>             <td>Least Squares</td>  <th>  F-statistic:       </th> <td>   483.7</td>\n",
       "</tr>\n",
       "<tr>\n",
       "  <th>Date:</th>             <td>Mon, 22 Jan 2018</td> <th>  Prob (F-statistic):</th> <td>3.19e-62</td>\n",
       "</tr>\n",
       "<tr>\n",
       "  <th>Time:</th>                 <td>20:53:28</td>     <th>  Log-Likelihood:    </th> <td> -130.61</td>\n",
       "</tr>\n",
       "<tr>\n",
       "  <th>No. Observations:</th>      <td>   100</td>      <th>  AIC:               </th> <td>   271.2</td>\n",
       "</tr>\n",
       "<tr>\n",
       "  <th>Df Residuals:</th>          <td>    95</td>      <th>  BIC:               </th> <td>   284.2</td>\n",
       "</tr>\n",
       "<tr>\n",
       "  <th>Df Model:</th>              <td>     4</td>      <th>                     </th>     <td> </td>   \n",
       "</tr>\n",
       "<tr>\n",
       "  <th>Covariance Type:</th>      <td>nonrobust</td>    <th>                     </th>     <td> </td>   \n",
       "</tr>\n",
       "</table>\n",
       "<table class=\"simpletable\">\n",
       "<tr>\n",
       "  <td></td>     <th>coef</th>     <th>std err</th>      <th>t</th>      <th>P>|t|</th>  <th>[0.025</th>    <th>0.975]</th>  \n",
       "</tr>\n",
       "<tr>\n",
       "  <th>0</th> <td>    3.2769</td> <td>    0.128</td> <td>   25.625</td> <td> 0.000</td> <td>    3.023</td> <td>    3.531</td>\n",
       "</tr>\n",
       "<tr>\n",
       "  <th>1</th> <td>    1.9101</td> <td>    0.183</td> <td>   10.463</td> <td> 0.000</td> <td>    1.548</td> <td>    2.272</td>\n",
       "</tr>\n",
       "<tr>\n",
       "  <th>2</th> <td>   -3.3425</td> <td>    0.172</td> <td>  -19.460</td> <td> 0.000</td> <td>   -3.684</td> <td>   -3.002</td>\n",
       "</tr>\n",
       "<tr>\n",
       "  <th>3</th> <td>    0.4054</td> <td>    0.064</td> <td>    6.321</td> <td> 0.000</td> <td>    0.278</td> <td>    0.533</td>\n",
       "</tr>\n",
       "<tr>\n",
       "  <th>6</th> <td>    0.0209</td> <td>    0.009</td> <td>    2.443</td> <td> 0.016</td> <td>    0.004</td> <td>    0.038</td>\n",
       "</tr>\n",
       "</table>\n",
       "<table class=\"simpletable\">\n",
       "<tr>\n",
       "  <th>Omnibus:</th>       <td> 1.527</td> <th>  Durbin-Watson:     </th> <td>   2.096</td>\n",
       "</tr>\n",
       "<tr>\n",
       "  <th>Prob(Omnibus):</th> <td> 0.466</td> <th>  Jarque-Bera (JB):  </th> <td>   1.076</td>\n",
       "</tr>\n",
       "<tr>\n",
       "  <th>Skew:</th>          <td>-0.236</td> <th>  Prob(JB):          </th> <td>   0.584</td>\n",
       "</tr>\n",
       "<tr>\n",
       "  <th>Kurtosis:</th>      <td> 3.187</td> <th>  Cond. No.          </th> <td>    50.9</td>\n",
       "</tr>\n",
       "</table>"
      ],
      "text/plain": [
       "<class 'statsmodels.iolib.summary.Summary'>\n",
       "\"\"\"\n",
       "                            OLS Regression Results                            \n",
       "==============================================================================\n",
       "Dep. Variable:                      y   R-squared:                       0.953\n",
       "Model:                            OLS   Adj. R-squared:                  0.951\n",
       "Method:                 Least Squares   F-statistic:                     483.7\n",
       "Date:                Mon, 22 Jan 2018   Prob (F-statistic):           3.19e-62\n",
       "Time:                        20:53:28   Log-Likelihood:                -130.61\n",
       "No. Observations:                 100   AIC:                             271.2\n",
       "Df Residuals:                      95   BIC:                             284.2\n",
       "Df Model:                           4                                         \n",
       "Covariance Type:            nonrobust                                         \n",
       "==============================================================================\n",
       "                 coef    std err          t      P>|t|      [0.025      0.975]\n",
       "------------------------------------------------------------------------------\n",
       "0              3.2769      0.128     25.625      0.000       3.023       3.531\n",
       "1              1.9101      0.183     10.463      0.000       1.548       2.272\n",
       "2             -3.3425      0.172    -19.460      0.000      -3.684      -3.002\n",
       "3              0.4054      0.064      6.321      0.000       0.278       0.533\n",
       "6              0.0209      0.009      2.443      0.016       0.004       0.038\n",
       "==============================================================================\n",
       "Omnibus:                        1.527   Durbin-Watson:                   2.096\n",
       "Prob(Omnibus):                  0.466   Jarque-Bera (JB):                1.076\n",
       "Skew:                          -0.236   Prob(JB):                        0.584\n",
       "Kurtosis:                       3.187   Cond. No.                         50.9\n",
       "==============================================================================\n",
       "\n",
       "Warnings:\n",
       "[1] Standard Errors assume that the covariance matrix of the errors is correctly specified.\n",
       "\"\"\""
      ]
     },
     "execution_count": 14,
     "metadata": {},
     "output_type": "execute_result"
    }
   ],
   "source": [
    "adj_r2['Model'][argmax].summary()"
   ]
  },
  {
   "cell_type": "code",
   "execution_count": 15,
   "metadata": {},
   "outputs": [
    {
     "data": {
      "text/html": [
       "<div>\n",
       "<style scoped>\n",
       "    .dataframe tbody tr th:only-of-type {\n",
       "        vertical-align: middle;\n",
       "    }\n",
       "\n",
       "    .dataframe tbody tr th {\n",
       "        vertical-align: top;\n",
       "    }\n",
       "\n",
       "    .dataframe thead th {\n",
       "        text-align: right;\n",
       "    }\n",
       "</style>\n",
       "<table border=\"1\" class=\"dataframe\">\n",
       "  <thead>\n",
       "    <tr style=\"text-align: right;\">\n",
       "      <th></th>\n",
       "      <th>Adj_r2</th>\n",
       "      <th>BIC</th>\n",
       "      <th>Model</th>\n",
       "      <th>RSS</th>\n",
       "    </tr>\n",
       "  </thead>\n",
       "  <tbody>\n",
       "    <tr>\n",
       "      <th>1</th>\n",
       "      <td>0.569598</td>\n",
       "      <td>491.292712</td>\n",
       "      <td>&lt;statsmodels.regression.linear_model.Regressio...</td>\n",
       "      <td>726.411627</td>\n",
       "    </tr>\n",
       "    <tr>\n",
       "      <th>2</th>\n",
       "      <td>0.931164</td>\n",
       "      <td>311.572199</td>\n",
       "      <td>&lt;statsmodels.regression.linear_model.Regressio...</td>\n",
       "      <td>114.991706</td>\n",
       "    </tr>\n",
       "    <tr>\n",
       "      <th>3</th>\n",
       "      <td>0.948702</td>\n",
       "      <td>285.734557</td>\n",
       "      <td>&lt;statsmodels.regression.linear_model.Regressio...</td>\n",
       "      <td>84.811563</td>\n",
       "    </tr>\n",
       "    <tr>\n",
       "      <th>4</th>\n",
       "      <td>0.951225</td>\n",
       "      <td>284.249198</td>\n",
       "      <td>&lt;statsmodels.regression.linear_model.Regressio...</td>\n",
       "      <td>79.800246</td>\n",
       "    </tr>\n",
       "    <tr>\n",
       "      <th>5</th>\n",
       "      <td>0.950924</td>\n",
       "      <td>288.410385</td>\n",
       "      <td>&lt;statsmodels.regression.linear_model.Regressio...</td>\n",
       "      <td>79.446732</td>\n",
       "    </tr>\n",
       "    <tr>\n",
       "      <th>6</th>\n",
       "      <td>0.950908</td>\n",
       "      <td>291.978363</td>\n",
       "      <td>&lt;statsmodels.regression.linear_model.Regressio...</td>\n",
       "      <td>78.626975</td>\n",
       "    </tr>\n",
       "    <tr>\n",
       "      <th>7</th>\n",
       "      <td>0.951064</td>\n",
       "      <td>295.185248</td>\n",
       "      <td>&lt;statsmodels.regression.linear_model.Regressio...</td>\n",
       "      <td>77.535196</td>\n",
       "    </tr>\n",
       "    <tr>\n",
       "      <th>8</th>\n",
       "      <td>0.950810</td>\n",
       "      <td>299.215482</td>\n",
       "      <td>&lt;statsmodels.regression.linear_model.Regressio...</td>\n",
       "      <td>77.090698</td>\n",
       "    </tr>\n",
       "    <tr>\n",
       "      <th>9</th>\n",
       "      <td>0.950418</td>\n",
       "      <td>303.509673</td>\n",
       "      <td>&lt;statsmodels.regression.linear_model.Regressio...</td>\n",
       "      <td>76.851334</td>\n",
       "    </tr>\n",
       "    <tr>\n",
       "      <th>10</th>\n",
       "      <td>0.950091</td>\n",
       "      <td>307.654182</td>\n",
       "      <td>&lt;statsmodels.regression.linear_model.Regressio...</td>\n",
       "      <td>76.498124</td>\n",
       "    </tr>\n",
       "  </tbody>\n",
       "</table>\n",
       "</div>"
      ],
      "text/plain": [
       "      Adj_r2         BIC                                              Model  \\\n",
       "1   0.569598  491.292712  <statsmodels.regression.linear_model.Regressio...   \n",
       "2   0.931164  311.572199  <statsmodels.regression.linear_model.Regressio...   \n",
       "3   0.948702  285.734557  <statsmodels.regression.linear_model.Regressio...   \n",
       "4   0.951225  284.249198  <statsmodels.regression.linear_model.Regressio...   \n",
       "5   0.950924  288.410385  <statsmodels.regression.linear_model.Regressio...   \n",
       "6   0.950908  291.978363  <statsmodels.regression.linear_model.Regressio...   \n",
       "7   0.951064  295.185248  <statsmodels.regression.linear_model.Regressio...   \n",
       "8   0.950810  299.215482  <statsmodels.regression.linear_model.Regressio...   \n",
       "9   0.950418  303.509673  <statsmodels.regression.linear_model.Regressio...   \n",
       "10  0.950091  307.654182  <statsmodels.regression.linear_model.Regressio...   \n",
       "\n",
       "           RSS  \n",
       "1   726.411627  \n",
       "2   114.991706  \n",
       "3    84.811563  \n",
       "4    79.800246  \n",
       "5    79.446732  \n",
       "6    78.626975  \n",
       "7    77.535196  \n",
       "8    77.090698  \n",
       "9    76.851334  \n",
       "10   76.498124  "
      ]
     },
     "execution_count": 15,
     "metadata": {},
     "output_type": "execute_result"
    }
   ],
   "source": [
    "bic"
   ]
  },
  {
   "cell_type": "code",
   "execution_count": 16,
   "metadata": {
    "scrolled": true
   },
   "outputs": [
    {
     "data": {
      "text/html": [
       "<table class=\"simpletable\">\n",
       "<caption>OLS Regression Results</caption>\n",
       "<tr>\n",
       "  <th>Dep. Variable:</th>            <td>y</td>        <th>  R-squared:         </th> <td>   0.953</td>\n",
       "</tr>\n",
       "<tr>\n",
       "  <th>Model:</th>                   <td>OLS</td>       <th>  Adj. R-squared:    </th> <td>   0.951</td>\n",
       "</tr>\n",
       "<tr>\n",
       "  <th>Method:</th>             <td>Least Squares</td>  <th>  F-statistic:       </th> <td>   483.7</td>\n",
       "</tr>\n",
       "<tr>\n",
       "  <th>Date:</th>             <td>Mon, 22 Jan 2018</td> <th>  Prob (F-statistic):</th> <td>3.19e-62</td>\n",
       "</tr>\n",
       "<tr>\n",
       "  <th>Time:</th>                 <td>20:53:28</td>     <th>  Log-Likelihood:    </th> <td> -130.61</td>\n",
       "</tr>\n",
       "<tr>\n",
       "  <th>No. Observations:</th>      <td>   100</td>      <th>  AIC:               </th> <td>   271.2</td>\n",
       "</tr>\n",
       "<tr>\n",
       "  <th>Df Residuals:</th>          <td>    95</td>      <th>  BIC:               </th> <td>   284.2</td>\n",
       "</tr>\n",
       "<tr>\n",
       "  <th>Df Model:</th>              <td>     4</td>      <th>                     </th>     <td> </td>   \n",
       "</tr>\n",
       "<tr>\n",
       "  <th>Covariance Type:</th>      <td>nonrobust</td>    <th>                     </th>     <td> </td>   \n",
       "</tr>\n",
       "</table>\n",
       "<table class=\"simpletable\">\n",
       "<tr>\n",
       "  <td></td>     <th>coef</th>     <th>std err</th>      <th>t</th>      <th>P>|t|</th>  <th>[0.025</th>    <th>0.975]</th>  \n",
       "</tr>\n",
       "<tr>\n",
       "  <th>0</th> <td>    3.2769</td> <td>    0.128</td> <td>   25.625</td> <td> 0.000</td> <td>    3.023</td> <td>    3.531</td>\n",
       "</tr>\n",
       "<tr>\n",
       "  <th>1</th> <td>    1.9101</td> <td>    0.183</td> <td>   10.463</td> <td> 0.000</td> <td>    1.548</td> <td>    2.272</td>\n",
       "</tr>\n",
       "<tr>\n",
       "  <th>2</th> <td>   -3.3425</td> <td>    0.172</td> <td>  -19.460</td> <td> 0.000</td> <td>   -3.684</td> <td>   -3.002</td>\n",
       "</tr>\n",
       "<tr>\n",
       "  <th>3</th> <td>    0.4054</td> <td>    0.064</td> <td>    6.321</td> <td> 0.000</td> <td>    0.278</td> <td>    0.533</td>\n",
       "</tr>\n",
       "<tr>\n",
       "  <th>6</th> <td>    0.0209</td> <td>    0.009</td> <td>    2.443</td> <td> 0.016</td> <td>    0.004</td> <td>    0.038</td>\n",
       "</tr>\n",
       "</table>\n",
       "<table class=\"simpletable\">\n",
       "<tr>\n",
       "  <th>Omnibus:</th>       <td> 1.527</td> <th>  Durbin-Watson:     </th> <td>   2.096</td>\n",
       "</tr>\n",
       "<tr>\n",
       "  <th>Prob(Omnibus):</th> <td> 0.466</td> <th>  Jarque-Bera (JB):  </th> <td>   1.076</td>\n",
       "</tr>\n",
       "<tr>\n",
       "  <th>Skew:</th>          <td>-0.236</td> <th>  Prob(JB):          </th> <td>   0.584</td>\n",
       "</tr>\n",
       "<tr>\n",
       "  <th>Kurtosis:</th>      <td> 3.187</td> <th>  Cond. No.          </th> <td>    50.9</td>\n",
       "</tr>\n",
       "</table>"
      ],
      "text/plain": [
       "<class 'statsmodels.iolib.summary.Summary'>\n",
       "\"\"\"\n",
       "                            OLS Regression Results                            \n",
       "==============================================================================\n",
       "Dep. Variable:                      y   R-squared:                       0.953\n",
       "Model:                            OLS   Adj. R-squared:                  0.951\n",
       "Method:                 Least Squares   F-statistic:                     483.7\n",
       "Date:                Mon, 22 Jan 2018   Prob (F-statistic):           3.19e-62\n",
       "Time:                        20:53:28   Log-Likelihood:                -130.61\n",
       "No. Observations:                 100   AIC:                             271.2\n",
       "Df Residuals:                      95   BIC:                             284.2\n",
       "Df Model:                           4                                         \n",
       "Covariance Type:            nonrobust                                         \n",
       "==============================================================================\n",
       "                 coef    std err          t      P>|t|      [0.025      0.975]\n",
       "------------------------------------------------------------------------------\n",
       "0              3.2769      0.128     25.625      0.000       3.023       3.531\n",
       "1              1.9101      0.183     10.463      0.000       1.548       2.272\n",
       "2             -3.3425      0.172    -19.460      0.000      -3.684      -3.002\n",
       "3              0.4054      0.064      6.321      0.000       0.278       0.533\n",
       "6              0.0209      0.009      2.443      0.016       0.004       0.038\n",
       "==============================================================================\n",
       "Omnibus:                        1.527   Durbin-Watson:                   2.096\n",
       "Prob(Omnibus):                  0.466   Jarque-Bera (JB):                1.076\n",
       "Skew:                          -0.236   Prob(JB):                        0.584\n",
       "Kurtosis:                       3.187   Cond. No.                         50.9\n",
       "==============================================================================\n",
       "\n",
       "Warnings:\n",
       "[1] Standard Errors assume that the covariance matrix of the errors is correctly specified.\n",
       "\"\"\""
      ]
     },
     "execution_count": 16,
     "metadata": {},
     "output_type": "execute_result"
    }
   ],
   "source": [
    "bic['Model'][argmin].summary()"
   ]
  },
  {
   "cell_type": "markdown",
   "metadata": {},
   "source": [
    "## (d)\n",
    "## Forward"
   ]
  },
  {
   "cell_type": "code",
   "execution_count": 17,
   "metadata": {
    "collapsed": true
   },
   "outputs": [],
   "source": [
    "def forward(predictors):\n",
    "    # Pull out predictors we still need to process\n",
    "    remaining_predictors = [p for p in X_poly.columns if p not in predictors]\n",
    "    \n",
    "    results = []\n",
    "    \n",
    "    for p in remaining_predictors:\n",
    "        results.append(process_subset(predictors+[p]))\n",
    "    \n",
    "    # Wrap everything up in a nice dataframe\n",
    "    models = pd.DataFrame(results)\n",
    "    \n",
    "    # Choose the model with the highest RSS\n",
    "    best_model = models.loc[models[\"RSS\"].idxmin()]\n",
    "    \n",
    "    print(\"Processed \",models.shape[0], \"models on\", len(predictors)+1,\n",
    "          \"predictors\")\n",
    "    \n",
    "    return best_model"
   ]
  },
  {
   "cell_type": "code",
   "execution_count": 18,
   "metadata": {},
   "outputs": [
    {
     "name": "stdout",
     "output_type": "stream",
     "text": [
      "Processed  10 models on 2 predictors\n",
      "Processed  9 models on 3 predictors\n",
      "Processed  8 models on 4 predictors\n",
      "Processed  7 models on 5 predictors\n",
      "Processed  6 models on 6 predictors\n",
      "Processed  5 models on 7 predictors\n",
      "Processed  4 models on 8 predictors\n",
      "Processed  3 models on 9 predictors\n",
      "Processed  2 models on 10 predictors\n",
      "Processed  1 models on 11 predictors\n"
     ]
    }
   ],
   "source": [
    "models = pd.DataFrame(columns=[\"BIC\",\"Adj_r2\",\"RSS\", \"Model\"])\n",
    "predictors = [1]\n",
    "\n",
    "for i in range(1, len(X_poly.columns)):\n",
    "    models.loc[i] = forward(predictors)\n",
    "    predictors = models.loc[i][\"Model\"].model.exog_names"
   ]
  },
  {
   "cell_type": "code",
   "execution_count": 19,
   "metadata": {
    "scrolled": true
   },
   "outputs": [
    {
     "data": {
      "text/html": [
       "<div>\n",
       "<style scoped>\n",
       "    .dataframe tbody tr th:only-of-type {\n",
       "        vertical-align: middle;\n",
       "    }\n",
       "\n",
       "    .dataframe tbody tr th {\n",
       "        vertical-align: top;\n",
       "    }\n",
       "\n",
       "    .dataframe thead th {\n",
       "        text-align: right;\n",
       "    }\n",
       "</style>\n",
       "<table border=\"1\" class=\"dataframe\">\n",
       "  <thead>\n",
       "    <tr style=\"text-align: right;\">\n",
       "      <th></th>\n",
       "      <th>BIC</th>\n",
       "      <th>Adj_r2</th>\n",
       "      <th>RSS</th>\n",
       "      <th>Model</th>\n",
       "    </tr>\n",
       "  </thead>\n",
       "  <tbody>\n",
       "    <tr>\n",
       "      <th>1</th>\n",
       "      <td>475.166812</td>\n",
       "      <td>0.648758</td>\n",
       "      <td>618.228318</td>\n",
       "      <td>&lt;statsmodels.regression.linear_model.Regressio...</td>\n",
       "    </tr>\n",
       "    <tr>\n",
       "      <th>2</th>\n",
       "      <td>397.714909</td>\n",
       "      <td>0.837098</td>\n",
       "      <td>272.131961</td>\n",
       "      <td>&lt;statsmodels.regression.linear_model.Regressio...</td>\n",
       "    </tr>\n",
       "    <tr>\n",
       "      <th>3</th>\n",
       "      <td>314.213358</td>\n",
       "      <td>0.931800</td>\n",
       "      <td>112.755289</td>\n",
       "      <td>&lt;statsmodels.regression.linear_model.Regressio...</td>\n",
       "    </tr>\n",
       "    <tr>\n",
       "      <th>4</th>\n",
       "      <td>284.276388</td>\n",
       "      <td>0.951212</td>\n",
       "      <td>79.821947</td>\n",
       "      <td>&lt;statsmodels.regression.linear_model.Regressio...</td>\n",
       "    </tr>\n",
       "    <tr>\n",
       "      <th>5</th>\n",
       "      <td>288.806036</td>\n",
       "      <td>0.950730</td>\n",
       "      <td>79.761687</td>\n",
       "      <td>&lt;statsmodels.regression.linear_model.Regressio...</td>\n",
       "    </tr>\n",
       "    <tr>\n",
       "      <th>6</th>\n",
       "      <td>292.450935</td>\n",
       "      <td>0.950676</td>\n",
       "      <td>78.999423</td>\n",
       "      <td>&lt;statsmodels.regression.linear_model.Regressio...</td>\n",
       "    </tr>\n",
       "    <tr>\n",
       "      <th>7</th>\n",
       "      <td>296.051427</td>\n",
       "      <td>0.950638</td>\n",
       "      <td>78.209708</td>\n",
       "      <td>&lt;statsmodels.regression.linear_model.Regressio...</td>\n",
       "    </tr>\n",
       "    <tr>\n",
       "      <th>8</th>\n",
       "      <td>300.636868</td>\n",
       "      <td>0.950106</td>\n",
       "      <td>78.194279</td>\n",
       "      <td>&lt;statsmodels.regression.linear_model.Regressio...</td>\n",
       "    </tr>\n",
       "    <tr>\n",
       "      <th>9</th>\n",
       "      <td>305.128148</td>\n",
       "      <td>0.949609</td>\n",
       "      <td>78.105274</td>\n",
       "      <td>&lt;statsmodels.regression.linear_model.Regressio...</td>\n",
       "    </tr>\n",
       "    <tr>\n",
       "      <th>10</th>\n",
       "      <td>307.654182</td>\n",
       "      <td>0.950091</td>\n",
       "      <td>76.498124</td>\n",
       "      <td>&lt;statsmodels.regression.linear_model.Regressio...</td>\n",
       "    </tr>\n",
       "  </tbody>\n",
       "</table>\n",
       "</div>"
      ],
      "text/plain": [
       "           BIC    Adj_r2         RSS  \\\n",
       "1   475.166812  0.648758  618.228318   \n",
       "2   397.714909  0.837098  272.131961   \n",
       "3   314.213358  0.931800  112.755289   \n",
       "4   284.276388  0.951212   79.821947   \n",
       "5   288.806036  0.950730   79.761687   \n",
       "6   292.450935  0.950676   78.999423   \n",
       "7   296.051427  0.950638   78.209708   \n",
       "8   300.636868  0.950106   78.194279   \n",
       "9   305.128148  0.949609   78.105274   \n",
       "10  307.654182  0.950091   76.498124   \n",
       "\n",
       "                                                Model  \n",
       "1   <statsmodels.regression.linear_model.Regressio...  \n",
       "2   <statsmodels.regression.linear_model.Regressio...  \n",
       "3   <statsmodels.regression.linear_model.Regressio...  \n",
       "4   <statsmodels.regression.linear_model.Regressio...  \n",
       "5   <statsmodels.regression.linear_model.Regressio...  \n",
       "6   <statsmodels.regression.linear_model.Regressio...  \n",
       "7   <statsmodels.regression.linear_model.Regressio...  \n",
       "8   <statsmodels.regression.linear_model.Regressio...  \n",
       "9   <statsmodels.regression.linear_model.Regressio...  \n",
       "10  <statsmodels.regression.linear_model.Regressio...  "
      ]
     },
     "execution_count": 19,
     "metadata": {},
     "output_type": "execute_result"
    }
   ],
   "source": [
    "models"
   ]
  },
  {
   "cell_type": "markdown",
   "metadata": {},
   "source": [
    "## Backward"
   ]
  },
  {
   "cell_type": "code",
   "execution_count": 20,
   "metadata": {
    "collapsed": true
   },
   "outputs": [],
   "source": [
    "def backward(predictors):\n",
    "\n",
    "    results = []\n",
    "    \n",
    "    for combo in itertools.combinations(predictors, len(predictors)-1):\n",
    "        results.append(process_subset(combo))\n",
    "    \n",
    "    # Wrap everything up in a nice dataframe\n",
    "    models = pd.DataFrame(results)\n",
    "    \n",
    "    # Choose the model with the lowest RSS\n",
    "    best_model = models.loc[models[\"RSS\"].idxmin()]\n",
    "    \n",
    "    print(\"Processed \",models.shape[0], \"models on\", len(predictors)+1,\n",
    "          \"predictors\")\n",
    "    \n",
    "    return best_model"
   ]
  },
  {
   "cell_type": "code",
   "execution_count": 21,
   "metadata": {
    "scrolled": true
   },
   "outputs": [
    {
     "name": "stdout",
     "output_type": "stream",
     "text": [
      "Processed  11 models on 12 predictors\n",
      "Processed  10 models on 11 predictors\n",
      "Processed  9 models on 10 predictors\n",
      "Processed  8 models on 9 predictors\n",
      "Processed  7 models on 8 predictors\n",
      "Processed  6 models on 7 predictors\n",
      "Processed  5 models on 6 predictors\n",
      "Processed  4 models on 5 predictors\n",
      "Processed  3 models on 4 predictors\n",
      "Processed  2 models on 3 predictors\n"
     ]
    }
   ],
   "source": [
    "models = pd.DataFrame(columns=[\"BIC\",\"Adj_r2\",\"RSS\", \"Model\"])\n",
    "predictors = X_poly.columns\n",
    "\n",
    "while(len(predictors) > 1):\n",
    "    models.loc[len(predictors)-1] = backward(predictors)\n",
    "    predictors = models.loc[len(predictors)-1][\"Model\"].model.exog_names"
   ]
  },
  {
   "cell_type": "code",
   "execution_count": 22,
   "metadata": {
    "scrolled": true
   },
   "outputs": [
    {
     "data": {
      "text/html": [
       "<div>\n",
       "<style scoped>\n",
       "    .dataframe tbody tr th:only-of-type {\n",
       "        vertical-align: middle;\n",
       "    }\n",
       "\n",
       "    .dataframe tbody tr th {\n",
       "        vertical-align: top;\n",
       "    }\n",
       "\n",
       "    .dataframe thead th {\n",
       "        text-align: right;\n",
       "    }\n",
       "</style>\n",
       "<table border=\"1\" class=\"dataframe\">\n",
       "  <thead>\n",
       "    <tr style=\"text-align: right;\">\n",
       "      <th></th>\n",
       "      <th>BIC</th>\n",
       "      <th>Adj_r2</th>\n",
       "      <th>RSS</th>\n",
       "      <th>Model</th>\n",
       "    </tr>\n",
       "  </thead>\n",
       "  <tbody>\n",
       "    <tr>\n",
       "      <th>10</th>\n",
       "      <td>303.509673</td>\n",
       "      <td>0.950418</td>\n",
       "      <td>76.851334</td>\n",
       "      <td>&lt;statsmodels.regression.linear_model.Regressio...</td>\n",
       "    </tr>\n",
       "    <tr>\n",
       "      <th>9</th>\n",
       "      <td>299.215482</td>\n",
       "      <td>0.950810</td>\n",
       "      <td>77.090698</td>\n",
       "      <td>&lt;statsmodels.regression.linear_model.Regressio...</td>\n",
       "    </tr>\n",
       "    <tr>\n",
       "      <th>8</th>\n",
       "      <td>295.588252</td>\n",
       "      <td>0.950866</td>\n",
       "      <td>77.848297</td>\n",
       "      <td>&lt;statsmodels.regression.linear_model.Regressio...</td>\n",
       "    </tr>\n",
       "    <tr>\n",
       "      <th>7</th>\n",
       "      <td>291.978363</td>\n",
       "      <td>0.950908</td>\n",
       "      <td>78.626975</td>\n",
       "      <td>&lt;statsmodels.regression.linear_model.Regressio...</td>\n",
       "    </tr>\n",
       "    <tr>\n",
       "      <th>6</th>\n",
       "      <td>289.322464</td>\n",
       "      <td>0.950475</td>\n",
       "      <td>80.174663</td>\n",
       "      <td>&lt;statsmodels.regression.linear_model.Regressio...</td>\n",
       "    </tr>\n",
       "    <tr>\n",
       "      <th>5</th>\n",
       "      <td>286.291806</td>\n",
       "      <td>0.950218</td>\n",
       "      <td>81.447013</td>\n",
       "      <td>&lt;statsmodels.regression.linear_model.Regressio...</td>\n",
       "    </tr>\n",
       "    <tr>\n",
       "      <th>4</th>\n",
       "      <td>287.437632</td>\n",
       "      <td>0.947821</td>\n",
       "      <td>86.268337</td>\n",
       "      <td>&lt;statsmodels.regression.linear_model.Regressio...</td>\n",
       "    </tr>\n",
       "    <tr>\n",
       "      <th>3</th>\n",
       "      <td>311.572199</td>\n",
       "      <td>0.931164</td>\n",
       "      <td>114.991706</td>\n",
       "      <td>&lt;statsmodels.regression.linear_model.Regressio...</td>\n",
       "    </tr>\n",
       "    <tr>\n",
       "      <th>2</th>\n",
       "      <td>491.292712</td>\n",
       "      <td>0.569598</td>\n",
       "      <td>726.411627</td>\n",
       "      <td>&lt;statsmodels.regression.linear_model.Regressio...</td>\n",
       "    </tr>\n",
       "    <tr>\n",
       "      <th>1</th>\n",
       "      <td>551.944175</td>\n",
       "      <td>0.215420</td>\n",
       "      <td>1395.046697</td>\n",
       "      <td>&lt;statsmodels.regression.linear_model.Regressio...</td>\n",
       "    </tr>\n",
       "  </tbody>\n",
       "</table>\n",
       "</div>"
      ],
      "text/plain": [
       "           BIC    Adj_r2          RSS  \\\n",
       "10  303.509673  0.950418    76.851334   \n",
       "9   299.215482  0.950810    77.090698   \n",
       "8   295.588252  0.950866    77.848297   \n",
       "7   291.978363  0.950908    78.626975   \n",
       "6   289.322464  0.950475    80.174663   \n",
       "5   286.291806  0.950218    81.447013   \n",
       "4   287.437632  0.947821    86.268337   \n",
       "3   311.572199  0.931164   114.991706   \n",
       "2   491.292712  0.569598   726.411627   \n",
       "1   551.944175  0.215420  1395.046697   \n",
       "\n",
       "                                                Model  \n",
       "10  <statsmodels.regression.linear_model.Regressio...  \n",
       "9   <statsmodels.regression.linear_model.Regressio...  \n",
       "8   <statsmodels.regression.linear_model.Regressio...  \n",
       "7   <statsmodels.regression.linear_model.Regressio...  \n",
       "6   <statsmodels.regression.linear_model.Regressio...  \n",
       "5   <statsmodels.regression.linear_model.Regressio...  \n",
       "4   <statsmodels.regression.linear_model.Regressio...  \n",
       "3   <statsmodels.regression.linear_model.Regressio...  \n",
       "2   <statsmodels.regression.linear_model.Regressio...  \n",
       "1   <statsmodels.regression.linear_model.Regressio...  "
      ]
     },
     "execution_count": 22,
     "metadata": {},
     "output_type": "execute_result"
    }
   ],
   "source": [
    "models"
   ]
  },
  {
   "cell_type": "markdown",
   "metadata": {},
   "source": [
    "## (e)"
   ]
  },
  {
   "cell_type": "code",
   "execution_count": 23,
   "metadata": {
    "collapsed": true
   },
   "outputs": [],
   "source": [
    "X_ = scale(X_poly.drop(0,axis=1))\n",
    "y = y.ravel()"
   ]
  },
  {
   "cell_type": "code",
   "execution_count": 24,
   "metadata": {
    "scrolled": true
   },
   "outputs": [
    {
     "data": {
      "image/png": "[encoded data removed]",
      "text/plain": [
       "<matplotlib.figure.Figure at 0x1c0f91f898>"
      ]
     },
     "metadata": {},
     "output_type": "display_data"
    }
   ],
   "source": [
    "# #############################################################################\n",
    "# Compute paths\n",
    "\n",
    "n_alphas = 200\n",
    "alphas = np.logspace(1.5, -3, n_alphas)\n",
    "\n",
    "coefs = []\n",
    "for a in alphas:\n",
    "    lasso = Lasso(alpha=a, fit_intercept=False)\n",
    "    lasso.fit(X_, y)\n",
    "    coefs.append(lasso.coef_)\n",
    "\n",
    "# #############################################################################\n",
    "# Display results\n",
    "\n",
    "ax = plt.gca()\n",
    "\n",
    "ax.plot(alphas, coefs)\n",
    "ax.set_xscale('log')\n",
    "# ax.set_xlim(ax.get_xlim()[::-1])  # reverse axis\n",
    "plt.xlabel('alpha')\n",
    "plt.ylabel('Standardized Coefficients')\n",
    "plt.title('Ridge coefficients as a function of the regularization')\n",
    "plt.axis('tight')\n",
    "plt.show()"
   ]
  },
  {
   "cell_type": "markdown",
   "metadata": {},
   "source": [
    "## Cross-Validation"
   ]
  },
  {
   "cell_type": "code",
   "execution_count": 25,
   "metadata": {
    "collapsed": true
   },
   "outputs": [],
   "source": [
    "n_alphas = 200\n",
    "alphas = np.logspace(2, -3, n_alphas)\n",
    "\n",
    "coefs = []\n",
    "cv_errors = []\n",
    "kf_10 = KFold(n_splits = 10)\n",
    "\n",
    "for a in alphas:\n",
    "    # CV Errors\n",
    "    ridge = Ridge(alpha=a, fit_intercept=False)\n",
    "    #kf_10 = KFold(n_splits = 10)\n",
    "    score = -1*cross_val_score(ridge, X_, y, cv=kf_10,\n",
    "                           scoring='neg_mean_squared_error').mean()\n",
    "    cv_errors.append(score)\n",
    "    \n",
    "    # Coefficients\n",
    "    ridge = Ridge(alpha=a, fit_intercept=False)\n",
    "    ridge.fit(X_, y)\n",
    "    coefs.append(ridge.coef_)"
   ]
  },
  {
   "cell_type": "code",
   "execution_count": 26,
   "metadata": {
    "scrolled": true
   },
   "outputs": [
    {
     "data": {
      "image/png": "[encoded data removed]",
      "text/plain": [
       "<matplotlib.figure.Figure at 0x1c15ec1710>"
      ]
     },
     "metadata": {},
     "output_type": "display_data"
    }
   ],
   "source": [
    "fig, axes = plt.subplots(1,2, figsize=(12,6))\n",
    "ax1, ax2 = axes\n",
    "\n",
    "# Left Plot\n",
    "ax1.plot(alphas, cv_errors)\n",
    "ax1.plot([alphas[np.argmin(cv_errors)]]*2,[min(cv_errors)-10,max(cv_errors)+10],\n",
    "         linestyle='--', c='k')\n",
    "ax1.set_ylabel('Cross-Validation Error')\n",
    "ax1.set_ylim([min(cv_errors)-3,max(cv_errors)+3])\n",
    "\n",
    "# Right Plot\n",
    "ax2.plot(alphas, coefs)\n",
    "ax2.plot([alphas[np.argmin(cv_errors)]]*2,[np.max(ridge.coef_)+10,np.min(ridge.coef_)-10],\n",
    "         linestyle='--', c='k')\n",
    "ax2.set_ylabel('Standardized Coefficients')\n",
    "ax2.set_ylim([np.min(ridge.coef_)-1,np.max(ridge.coef_)+1])\n",
    "\n",
    "for i in range(len(axes)):\n",
    "    axes[i].set_xscale('log')\n",
    "    axes[i].set_xlabel('alpha')\n",
    "    #axes[i].axis('tight')"
   ]
  },
  {
   "cell_type": "markdown",
   "metadata": {},
   "source": [
    "## (f)\n",
    "Do it yourself."
   ]
  },
  {
   "cell_type": "markdown",
   "metadata": {},
   "source": [
    "# 9"
   ]
  },
  {
   "cell_type": "code",
   "execution_count": 27,
   "metadata": {
    "collapsed": true
   },
   "outputs": [],
   "source": [
    "np.random.seed(1)\n",
    "college = pd.read_csv('../Data/College.csv', index_col=0)"
   ]
  },
  {
   "cell_type": "code",
   "execution_count": 28,
   "metadata": {
    "scrolled": false
   },
   "outputs": [
    {
     "data": {
      "text/html": [
       "<div>\n",
       "<style scoped>\n",
       "    .dataframe tbody tr th:only-of-type {\n",
       "        vertical-align: middle;\n",
       "    }\n",
       "\n",
       "    .dataframe tbody tr th {\n",
       "        vertical-align: top;\n",
       "    }\n",
       "\n",
       "    .dataframe thead th {\n",
       "        text-align: right;\n",
       "    }\n",
       "</style>\n",
       "<table border=\"1\" class=\"dataframe\">\n",
       "  <thead>\n",
       "    <tr style=\"text-align: right;\">\n",
       "      <th></th>\n",
       "      <th>Private</th>\n",
       "      <th>Apps</th>\n",
       "      <th>Accept</th>\n",
       "      <th>Enroll</th>\n",
       "      <th>Top10perc</th>\n",
       "      <th>Top25perc</th>\n",
       "      <th>F.Undergrad</th>\n",
       "      <th>P.Undergrad</th>\n",
       "      <th>Outstate</th>\n",
       "      <th>Room.Board</th>\n",
       "      <th>Books</th>\n",
       "      <th>Personal</th>\n",
       "      <th>PhD</th>\n",
       "      <th>Terminal</th>\n",
       "      <th>S.F.Ratio</th>\n",
       "      <th>perc.alumni</th>\n",
       "      <th>Expend</th>\n",
       "      <th>Grad.Rate</th>\n",
       "    </tr>\n",
       "  </thead>\n",
       "  <tbody>\n",
       "    <tr>\n",
       "      <th>Abilene Christian University</th>\n",
       "      <td>Yes</td>\n",
       "      <td>1660</td>\n",
       "      <td>1232</td>\n",
       "      <td>721</td>\n",
       "      <td>23</td>\n",
       "      <td>52</td>\n",
       "      <td>2885</td>\n",
       "      <td>537</td>\n",
       "      <td>7440</td>\n",
       "      <td>3300</td>\n",
       "      <td>450</td>\n",
       "      <td>2200</td>\n",
       "      <td>70</td>\n",
       "      <td>78</td>\n",
       "      <td>18.1</td>\n",
       "      <td>12</td>\n",
       "      <td>7041</td>\n",
       "      <td>60</td>\n",
       "    </tr>\n",
       "    <tr>\n",
       "      <th>Adelphi University</th>\n",
       "      <td>Yes</td>\n",
       "      <td>2186</td>\n",
       "      <td>1924</td>\n",
       "      <td>512</td>\n",
       "      <td>16</td>\n",
       "      <td>29</td>\n",
       "      <td>2683</td>\n",
       "      <td>1227</td>\n",
       "      <td>12280</td>\n",
       "      <td>6450</td>\n",
       "      <td>750</td>\n",
       "      <td>1500</td>\n",
       "      <td>29</td>\n",
       "      <td>30</td>\n",
       "      <td>12.2</td>\n",
       "      <td>16</td>\n",
       "      <td>10527</td>\n",
       "      <td>56</td>\n",
       "    </tr>\n",
       "    <tr>\n",
       "      <th>Adrian College</th>\n",
       "      <td>Yes</td>\n",
       "      <td>1428</td>\n",
       "      <td>1097</td>\n",
       "      <td>336</td>\n",
       "      <td>22</td>\n",
       "      <td>50</td>\n",
       "      <td>1036</td>\n",
       "      <td>99</td>\n",
       "      <td>11250</td>\n",
       "      <td>3750</td>\n",
       "      <td>400</td>\n",
       "      <td>1165</td>\n",
       "      <td>53</td>\n",
       "      <td>66</td>\n",
       "      <td>12.9</td>\n",
       "      <td>30</td>\n",
       "      <td>8735</td>\n",
       "      <td>54</td>\n",
       "    </tr>\n",
       "    <tr>\n",
       "      <th>Agnes Scott College</th>\n",
       "      <td>Yes</td>\n",
       "      <td>417</td>\n",
       "      <td>349</td>\n",
       "      <td>137</td>\n",
       "      <td>60</td>\n",
       "      <td>89</td>\n",
       "      <td>510</td>\n",
       "      <td>63</td>\n",
       "      <td>12960</td>\n",
       "      <td>5450</td>\n",
       "      <td>450</td>\n",
       "      <td>875</td>\n",
       "      <td>92</td>\n",
       "      <td>97</td>\n",
       "      <td>7.7</td>\n",
       "      <td>37</td>\n",
       "      <td>19016</td>\n",
       "      <td>59</td>\n",
       "    </tr>\n",
       "    <tr>\n",
       "      <th>Alaska Pacific University</th>\n",
       "      <td>Yes</td>\n",
       "      <td>193</td>\n",
       "      <td>146</td>\n",
       "      <td>55</td>\n",
       "      <td>16</td>\n",
       "      <td>44</td>\n",
       "      <td>249</td>\n",
       "      <td>869</td>\n",
       "      <td>7560</td>\n",
       "      <td>4120</td>\n",
       "      <td>800</td>\n",
       "      <td>1500</td>\n",
       "      <td>76</td>\n",
       "      <td>72</td>\n",
       "      <td>11.9</td>\n",
       "      <td>2</td>\n",
       "      <td>10922</td>\n",
       "      <td>15</td>\n",
       "    </tr>\n",
       "  </tbody>\n",
       "</table>\n",
       "</div>"
      ],
      "text/plain": [
       "                             Private  Apps  Accept  Enroll  Top10perc  \\\n",
       "Abilene Christian University     Yes  1660    1232     721         23   \n",
       "Adelphi University               Yes  2186    1924     512         16   \n",
       "Adrian College                   Yes  1428    1097     336         22   \n",
       "Agnes Scott College              Yes   417     349     137         60   \n",
       "Alaska Pacific University        Yes   193     146      55         16   \n",
       "\n",
       "                              Top25perc  F.Undergrad  P.Undergrad  Outstate  \\\n",
       "Abilene Christian University         52         2885          537      7440   \n",
       "Adelphi University                   29         2683         1227     12280   \n",
       "Adrian College                       50         1036           99     11250   \n",
       "Agnes Scott College                  89          510           63     12960   \n",
       "Alaska Pacific University            44          249          869      7560   \n",
       "\n",
       "                              Room.Board  Books  Personal  PhD  Terminal  \\\n",
       "Abilene Christian University        3300    450      2200   70        78   \n",
       "Adelphi University                  6450    750      1500   29        30   \n",
       "Adrian College                      3750    400      1165   53        66   \n",
       "Agnes Scott College                 5450    450       875   92        97   \n",
       "Alaska Pacific University           4120    800      1500   76        72   \n",
       "\n",
       "                              S.F.Ratio  perc.alumni  Expend  Grad.Rate  \n",
       "Abilene Christian University       18.1           12    7041         60  \n",
       "Adelphi University                 12.2           16   10527         56  \n",
       "Adrian College                     12.9           30    8735         54  \n",
       "Agnes Scott College                 7.7           37   19016         59  \n",
       "Alaska Pacific University          11.9            2   10922         15  "
      ]
     },
     "execution_count": 28,
     "metadata": {},
     "output_type": "execute_result"
    }
   ],
   "source": [
    "college.head()"
   ]
  },
  {
   "cell_type": "code",
   "execution_count": 29,
   "metadata": {
    "collapsed": true
   },
   "outputs": [],
   "source": [
    "college['Private'] = np.where(college['Private']==\"Yes\",1,0)"
   ]
  },
  {
   "cell_type": "code",
   "execution_count": 30,
   "metadata": {
    "collapsed": true
   },
   "outputs": [],
   "source": [
    "y = college['Apps']\n",
    "X = college.drop('Apps', axis=1)"
   ]
  },
  {
   "cell_type": "markdown",
   "metadata": {},
   "source": [
    "## (a)"
   ]
  },
  {
   "cell_type": "code",
   "execution_count": 31,
   "metadata": {
    "collapsed": true
   },
   "outputs": [],
   "source": [
    "X_train, X_test, y_train, y_test= train_test_split(X, y, test_size=0.2)"
   ]
  },
  {
   "cell_type": "markdown",
   "metadata": {},
   "source": [
    "## (b)"
   ]
  },
  {
   "cell_type": "code",
   "execution_count": 32,
   "metadata": {},
   "outputs": [
    {
     "data": {
      "text/plain": [
       "LinearRegression(copy_X=True, fit_intercept=True, n_jobs=1, normalize=False)"
      ]
     },
     "execution_count": 32,
     "metadata": {},
     "output_type": "execute_result"
    }
   ],
   "source": [
    "regr = LinearRegression()\n",
    "regr.fit(scale(X_train),y_train)"
   ]
  },
  {
   "cell_type": "code",
   "execution_count": 33,
   "metadata": {},
   "outputs": [
    {
     "name": "stdout",
     "output_type": "stream",
     "text": [
      "649900.8200068838\n"
     ]
    }
   ],
   "source": [
    "MSE = mean_squared_error(regr.predict(scale(X_test)), y_test)\n",
    "print(MSE)"
   ]
  },
  {
   "cell_type": "markdown",
   "metadata": {},
   "source": [
    "## (c) Ridge"
   ]
  },
  {
   "cell_type": "code",
   "execution_count": 34,
   "metadata": {
    "scrolled": true
   },
   "outputs": [
    {
     "data": {
      "text/plain": [
       "8.703591361485158"
      ]
     },
     "execution_count": 34,
     "metadata": {},
     "output_type": "execute_result"
    }
   ],
   "source": [
    "n_alphas = 200\n",
    "alphas = np.logspace(3, -2, n_alphas)\n",
    "\n",
    "ridgecv = RidgeCV(alphas=alphas, cv=10)\n",
    "ridgecv.fit(scale(X_train), y_train)\n",
    "ridgecv.alpha_"
   ]
  },
  {
   "cell_type": "code",
   "execution_count": 35,
   "metadata": {},
   "outputs": [
    {
     "data": {
      "text/plain": [
       "9150082.829559203"
      ]
     },
     "execution_count": 35,
     "metadata": {},
     "output_type": "execute_result"
    }
   ],
   "source": [
    "ridge.set_params(alpha=ridgecv.alpha_)\n",
    "ridge.fit(scale(X_train), y_train)\n",
    "mean_squared_error(y_test, ridge.predict(scale(X_test)))"
   ]
  },
  {
   "cell_type": "code",
   "execution_count": 36,
   "metadata": {},
   "outputs": [
    {
     "data": {
      "text/plain": [
       "Private        -162.869217\n",
       "Accept         3454.019577\n",
       "Enroll         -239.287226\n",
       "Top10perc       751.649604\n",
       "Top25perc      -194.458564\n",
       "F.Undergrad     152.762294\n",
       "P.Undergrad      11.713474\n",
       "Outstate       -340.277893\n",
       "Room.Board      208.741868\n",
       "Books            -2.057379\n",
       "Personal          5.419315\n",
       "PhD            -125.193830\n",
       "Terminal        -33.786114\n",
       "S.F.Ratio        74.620726\n",
       "perc.alumni     -27.017684\n",
       "Expend          439.821715\n",
       "Grad.Rate       161.993854\n",
       "dtype: float64"
      ]
     },
     "execution_count": 36,
     "metadata": {},
     "output_type": "execute_result"
    }
   ],
   "source": [
    "pd.Series(ridge.coef_, index=X.columns)"
   ]
  },
  {
   "cell_type": "markdown",
   "metadata": {},
   "source": [
    "## (d) Lasso"
   ]
  },
  {
   "cell_type": "markdown",
   "metadata": {},
   "source": [
    "### Method 1"
   ]
  },
  {
   "cell_type": "code",
   "execution_count": 37,
   "metadata": {
    "scrolled": true
   },
   "outputs": [
    {
     "data": {
      "text/plain": [
       "12.315506032928255"
      ]
     },
     "execution_count": 37,
     "metadata": {},
     "output_type": "execute_result"
    }
   ],
   "source": [
    "n_alphas = 200\n",
    "alphas = np.logspace(3, -2, n_alphas)\n",
    "\n",
    "lassocv = LassoCV(alphas=alphas, cv=10, max_iter=10000)\n",
    "lassocv.fit(scale(X_train), y_train)\n",
    "lassocv.alpha_"
   ]
  },
  {
   "cell_type": "code",
   "execution_count": 38,
   "metadata": {
    "scrolled": true
   },
   "outputs": [
    {
     "data": {
      "text/plain": [
       "9146406.497638468"
      ]
     },
     "execution_count": 38,
     "metadata": {},
     "output_type": "execute_result"
    }
   ],
   "source": [
    "lasso.set_params(alpha=lassocv.alpha_)\n",
    "lasso.fit(scale(X_train), y_train)\n",
    "mean_squared_error(y_test, lasso.predict(scale(X_test)))"
   ]
  },
  {
   "cell_type": "code",
   "execution_count": 39,
   "metadata": {
    "scrolled": true
   },
   "outputs": [
    {
     "data": {
      "text/plain": [
       "Private        -143.467373\n",
       "Accept         3626.731320\n",
       "Enroll         -225.783240\n",
       "Top10perc       712.017862\n",
       "Top25perc      -150.646597\n",
       "F.Undergrad       0.000000\n",
       "P.Undergrad       5.954624\n",
       "Outstate       -339.471376\n",
       "Room.Board      174.936181\n",
       "Books             0.000000\n",
       "Personal          0.000000\n",
       "PhD            -113.472866\n",
       "Terminal        -22.424065\n",
       "S.F.Ratio        51.147591\n",
       "perc.alumni      -9.921455\n",
       "Expend          414.933710\n",
       "Grad.Rate       118.028743\n",
       "dtype: float64"
      ]
     },
     "execution_count": 39,
     "metadata": {},
     "output_type": "execute_result"
    }
   ],
   "source": [
    "pd.Series(lasso.coef_, index=X.columns)"
   ]
  },
  {
   "cell_type": "markdown",
   "metadata": {},
   "source": [
    "## (e)"
   ]
  },
  {
   "cell_type": "code",
   "execution_count": 40,
   "metadata": {
    "scrolled": true
   },
   "outputs": [
    {
     "data": {
      "text/plain": [
       "array([ 31.34,  57.19,  64.32,  69.99,  75.56,  80.55,  84.21,  87.46,\n",
       "        90.43,  92.82,  94.92,  96.75,  97.79,  98.71,  99.37,  99.84,\n",
       "       100.  ])"
      ]
     },
     "execution_count": 40,
     "metadata": {},
     "output_type": "execute_result"
    }
   ],
   "source": [
    "pca = PCA()\n",
    "X_reduced_train = pca.fit_transform(scale(X_train))\n",
    "np.cumsum(np.round(pca.explained_variance_ratio_, 4)*100)"
   ]
  },
  {
   "cell_type": "code",
   "execution_count": 41,
   "metadata": {
    "collapsed": true
   },
   "outputs": [],
   "source": [
    "coefs = []\n",
    "cv_errors = []\n",
    "regr = LinearRegression()\n",
    "kf_10 = KFold(n_splits=10, shuffle=True)\n",
    "for i in range(1,18):\n",
    "    score = -1*cross_val_score(regr, X_reduced_train[:,:i], y_train, cv=kf_10,\n",
    "                           scoring='neg_mean_squared_error').mean()\n",
    "    cv_errors.append(score)"
   ]
  },
  {
   "cell_type": "code",
   "execution_count": 42,
   "metadata": {
    "collapsed": true
   },
   "outputs": [],
   "source": [
    "cv_errors = pd.DataFrame(cv_errors)\n",
    "cv_errors.index = range(1,18)\n",
    "M = cv_errors[0].idxmin()"
   ]
  },
  {
   "cell_type": "code",
   "execution_count": 43,
   "metadata": {
    "scrolled": true
   },
   "outputs": [
    {
     "data": {
      "text/plain": [
       "LinearRegression(copy_X=True, fit_intercept=True, n_jobs=1, normalize=False)"
      ]
     },
     "execution_count": 43,
     "metadata": {},
     "output_type": "execute_result"
    }
   ],
   "source": [
    "X_reduced_test = pca.fit_transform(scale(X_test))[:,:M]\n",
    "regr = LinearRegression()\n",
    "regr.fit(X_reduced_train[:,:M], y_train)"
   ]
  },
  {
   "cell_type": "code",
   "execution_count": 44,
   "metadata": {},
   "outputs": [
    {
     "data": {
      "text/plain": [
       "2708923.756055022"
      ]
     },
     "execution_count": 44,
     "metadata": {},
     "output_type": "execute_result"
    }
   ],
   "source": [
    "pred = regr.predict(X_reduced_test)\n",
    "mean_squared_error(y_test, pred)"
   ]
  },
  {
   "cell_type": "markdown",
   "metadata": {},
   "source": [
    "## (f)"
   ]
  },
  {
   "cell_type": "code",
   "execution_count": 45,
   "metadata": {
    "scrolled": false
   },
   "outputs": [
    {
     "data": {
      "image/png": "[encoded data removed]",
      "text/plain": [
       "<matplotlib.figure.Figure at 0x1c18db2fd0>"
      ]
     },
     "metadata": {},
     "output_type": "display_data"
    }
   ],
   "source": [
    "# 10-fold CV\n",
    "kf_10 = KFold(n_splits=10, shuffle=True)\n",
    "mse = []\n",
    "\n",
    "for i in np.arange(1, 18):\n",
    "    pls = PLSRegression(n_components=i)\n",
    "    score = -1*cross_val_score(pls, scale(X_train), y_train, cv=kf_10,\n",
    "                           scoring='neg_mean_squared_error').mean()\n",
    "    mse.append(score)\n",
    "    \n",
    "mse = pd.DataFrame(mse)\n",
    "mse.index = range(1,18)\n",
    "\n",
    "plt.plot(np.arange(1, 18), np.array(mse), '-o')\n",
    "plt.plot(mse[0].idxmin(),mse[0].min(),\"ro\")\n",
    "plt.xlabel('Number of principal components in regression')\n",
    "plt.ylabel('MSE')\n",
    "plt.title('Salary')\n",
    "plt.xlim(xmin=-1);"
   ]
  },
  {
   "cell_type": "code",
   "execution_count": 46,
   "metadata": {
    "collapsed": true
   },
   "outputs": [],
   "source": [
    "M = mse[0].idxmin()"
   ]
  },
  {
   "cell_type": "code",
   "execution_count": 47,
   "metadata": {},
   "outputs": [
    {
     "data": {
      "text/plain": [
       "649894.6478315684"
      ]
     },
     "execution_count": 47,
     "metadata": {},
     "output_type": "execute_result"
    }
   ],
   "source": [
    "pls = PLSRegression(n_components=M)\n",
    "pls.fit(scale(X_train),y_train)\n",
    "mean_squared_error(pls.predict(scale(X_test)),y_test)"
   ]
  },
  {
   "cell_type": "markdown",
   "metadata": {},
   "source": [
    "## (g)\n",
    "I'm not sure i've done these accurately...."
   ]
  },
  {
   "cell_type": "markdown",
   "metadata": {},
   "source": [
    "# 10\n",
    "## (a)"
   ]
  },
  {
   "cell_type": "code",
   "execution_count": 48,
   "metadata": {
    "collapsed": true
   },
   "outputs": [],
   "source": [
    "np.random.seed(5)\n",
    "X = np.random.randn(1000,15)\n",
    "beta = np.random.choice(np.arange(-3,3),15,replace=True)\n",
    "epsilon = np.random.randn(1000)*2\n",
    "y = np.dot(X,beta) + epsilon"
   ]
  },
  {
   "cell_type": "markdown",
   "metadata": {},
   "source": [
    "## (b)"
   ]
  },
  {
   "cell_type": "code",
   "execution_count": 49,
   "metadata": {
    "collapsed": true
   },
   "outputs": [],
   "source": [
    "X_train, X_test, y_train, y_test = train_test_split(X, y, test_size=0.9)"
   ]
  },
  {
   "cell_type": "code",
   "execution_count": 50,
   "metadata": {
    "collapsed": true
   },
   "outputs": [],
   "source": [
    "X_train = pd.DataFrame(X_train)\n",
    "X_test = pd.DataFrame(X_test)"
   ]
  },
  {
   "cell_type": "markdown",
   "metadata": {},
   "source": [
    "## (c)"
   ]
  },
  {
   "cell_type": "code",
   "execution_count": 52,
   "metadata": {
    "collapsed": true
   },
   "outputs": [],
   "source": [
    "def process_subset(features):\n",
    "    regr = LinearRegression(fit_intercept=False)\n",
    "    regr.fit(X_train[list(features)], y_train)\n",
    "    MSE_train = mean_squared_error(regr.predict(X_train[list(features)]),\n",
    "                             y_train)\n",
    "    MSE_test = mean_squared_error(regr.predict(X_test[list(features)]),\n",
    "                                y_test)\n",
    "    \n",
    "    return {\"model\": regr, \"MSE_train\": MSE_train, \"MSE_test\": MSE_test,\n",
    "           \"features\": features}\n",
    "\n",
    "\n",
    "def get_best(k):\n",
    "    results = []\n",
    "    for combo in itertools.combinations(X_train.columns, k):\n",
    "        results.append(process_subset(combo))\n",
    "        \n",
    "    models = pd.DataFrame(results)\n",
    "    \n",
    "    best_model = models.loc[models['MSE_train'].idxmin()]\n",
    "    \n",
    "    return best_model"
   ]
  },
  {
   "cell_type": "code",
   "execution_count": 53,
   "metadata": {
    "collapsed": true
   },
   "outputs": [],
   "source": [
    "models = pd.DataFrame(columns=[\"MSE_train\", \"MSE_test\", \"model\", \"features\"])\n",
    "\n",
    "for i in range(1, 16):\n",
    "    models.loc[i] = get_best(i)"
   ]
  },
  {
   "cell_type": "code",
   "execution_count": 54,
   "metadata": {},
   "outputs": [
    {
     "data": {
      "text/html": [
       "<div>\n",
       "<style scoped>\n",
       "    .dataframe tbody tr th:only-of-type {\n",
       "        vertical-align: middle;\n",
       "    }\n",
       "\n",
       "    .dataframe tbody tr th {\n",
       "        vertical-align: top;\n",
       "    }\n",
       "\n",
       "    .dataframe thead th {\n",
       "        text-align: right;\n",
       "    }\n",
       "</style>\n",
       "<table border=\"1\" class=\"dataframe\">\n",
       "  <thead>\n",
       "    <tr style=\"text-align: right;\">\n",
       "      <th></th>\n",
       "      <th>MSE_train</th>\n",
       "      <th>MSE_test</th>\n",
       "      <th>model</th>\n",
       "      <th>features</th>\n",
       "    </tr>\n",
       "  </thead>\n",
       "  <tbody>\n",
       "    <tr>\n",
       "      <th>1</th>\n",
       "      <td>29.814266</td>\n",
       "      <td>30.250053</td>\n",
       "      <td>LinearRegression(copy_X=True, fit_intercept=Fa...</td>\n",
       "      <td>(1,)</td>\n",
       "    </tr>\n",
       "    <tr>\n",
       "      <th>2</th>\n",
       "      <td>25.334181</td>\n",
       "      <td>22.704728</td>\n",
       "      <td>LinearRegression(copy_X=True, fit_intercept=Fa...</td>\n",
       "      <td>(1, 3)</td>\n",
       "    </tr>\n",
       "    <tr>\n",
       "      <th>3</th>\n",
       "      <td>21.486534</td>\n",
       "      <td>19.444334</td>\n",
       "      <td>LinearRegression(copy_X=True, fit_intercept=Fa...</td>\n",
       "      <td>(1, 3, 12)</td>\n",
       "    </tr>\n",
       "    <tr>\n",
       "      <th>4</th>\n",
       "      <td>17.239034</td>\n",
       "      <td>16.272487</td>\n",
       "      <td>LinearRegression(copy_X=True, fit_intercept=Fa...</td>\n",
       "      <td>(0, 1, 3, 12)</td>\n",
       "    </tr>\n",
       "    <tr>\n",
       "      <th>5</th>\n",
       "      <td>14.383812</td>\n",
       "      <td>11.986615</td>\n",
       "      <td>LinearRegression(copy_X=True, fit_intercept=Fa...</td>\n",
       "      <td>(0, 1, 3, 12, 14)</td>\n",
       "    </tr>\n",
       "    <tr>\n",
       "      <th>6</th>\n",
       "      <td>11.524801</td>\n",
       "      <td>11.521164</td>\n",
       "      <td>LinearRegression(copy_X=True, fit_intercept=Fa...</td>\n",
       "      <td>(0, 1, 3, 11, 12, 14)</td>\n",
       "    </tr>\n",
       "    <tr>\n",
       "      <th>7</th>\n",
       "      <td>9.405611</td>\n",
       "      <td>10.667719</td>\n",
       "      <td>LinearRegression(copy_X=True, fit_intercept=Fa...</td>\n",
       "      <td>(0, 1, 3, 7, 11, 12, 14)</td>\n",
       "    </tr>\n",
       "    <tr>\n",
       "      <th>8</th>\n",
       "      <td>7.773684</td>\n",
       "      <td>9.861876</td>\n",
       "      <td>LinearRegression(copy_X=True, fit_intercept=Fa...</td>\n",
       "      <td>(0, 1, 3, 7, 9, 11, 12, 14)</td>\n",
       "    </tr>\n",
       "    <tr>\n",
       "      <th>9</th>\n",
       "      <td>6.655127</td>\n",
       "      <td>8.787867</td>\n",
       "      <td>LinearRegression(copy_X=True, fit_intercept=Fa...</td>\n",
       "      <td>(0, 1, 2, 3, 7, 9, 11, 12, 14)</td>\n",
       "    </tr>\n",
       "    <tr>\n",
       "      <th>10</th>\n",
       "      <td>5.465757</td>\n",
       "      <td>7.769397</td>\n",
       "      <td>LinearRegression(copy_X=True, fit_intercept=Fa...</td>\n",
       "      <td>(0, 1, 2, 3, 5, 7, 9, 11, 12, 14)</td>\n",
       "    </tr>\n",
       "    <tr>\n",
       "      <th>11</th>\n",
       "      <td>4.637179</td>\n",
       "      <td>6.267273</td>\n",
       "      <td>LinearRegression(copy_X=True, fit_intercept=Fa...</td>\n",
       "      <td>(0, 1, 2, 3, 5, 7, 9, 11, 12, 13, 14)</td>\n",
       "    </tr>\n",
       "    <tr>\n",
       "      <th>12</th>\n",
       "      <td>3.888330</td>\n",
       "      <td>5.354010</td>\n",
       "      <td>LinearRegression(copy_X=True, fit_intercept=Fa...</td>\n",
       "      <td>(0, 1, 2, 3, 4, 5, 7, 9, 11, 12, 13, 14)</td>\n",
       "    </tr>\n",
       "    <tr>\n",
       "      <th>13</th>\n",
       "      <td>3.381051</td>\n",
       "      <td>4.375264</td>\n",
       "      <td>LinearRegression(copy_X=True, fit_intercept=Fa...</td>\n",
       "      <td>(0, 1, 2, 3, 4, 5, 7, 9, 10, 11, 12, 13, 14)</td>\n",
       "    </tr>\n",
       "    <tr>\n",
       "      <th>14</th>\n",
       "      <td>3.330918</td>\n",
       "      <td>4.496440</td>\n",
       "      <td>LinearRegression(copy_X=True, fit_intercept=Fa...</td>\n",
       "      <td>(0, 1, 2, 3, 4, 5, 6, 7, 9, 10, 11, 12, 13, 14)</td>\n",
       "    </tr>\n",
       "    <tr>\n",
       "      <th>15</th>\n",
       "      <td>3.296470</td>\n",
       "      <td>4.551660</td>\n",
       "      <td>LinearRegression(copy_X=True, fit_intercept=Fa...</td>\n",
       "      <td>(0, 1, 2, 3, 4, 5, 6, 7, 8, 9, 10, 11, 12, 13,...</td>\n",
       "    </tr>\n",
       "  </tbody>\n",
       "</table>\n",
       "</div>"
      ],
      "text/plain": [
       "    MSE_train   MSE_test                                              model  \\\n",
       "1   29.814266  30.250053  LinearRegression(copy_X=True, fit_intercept=Fa...   \n",
       "2   25.334181  22.704728  LinearRegression(copy_X=True, fit_intercept=Fa...   \n",
       "3   21.486534  19.444334  LinearRegression(copy_X=True, fit_intercept=Fa...   \n",
       "4   17.239034  16.272487  LinearRegression(copy_X=True, fit_intercept=Fa...   \n",
       "5   14.383812  11.986615  LinearRegression(copy_X=True, fit_intercept=Fa...   \n",
       "6   11.524801  11.521164  LinearRegression(copy_X=True, fit_intercept=Fa...   \n",
       "7    9.405611  10.667719  LinearRegression(copy_X=True, fit_intercept=Fa...   \n",
       "8    7.773684   9.861876  LinearRegression(copy_X=True, fit_intercept=Fa...   \n",
       "9    6.655127   8.787867  LinearRegression(copy_X=True, fit_intercept=Fa...   \n",
       "10   5.465757   7.769397  LinearRegression(copy_X=True, fit_intercept=Fa...   \n",
       "11   4.637179   6.267273  LinearRegression(copy_X=True, fit_intercept=Fa...   \n",
       "12   3.888330   5.354010  LinearRegression(copy_X=True, fit_intercept=Fa...   \n",
       "13   3.381051   4.375264  LinearRegression(copy_X=True, fit_intercept=Fa...   \n",
       "14   3.330918   4.496440  LinearRegression(copy_X=True, fit_intercept=Fa...   \n",
       "15   3.296470   4.551660  LinearRegression(copy_X=True, fit_intercept=Fa...   \n",
       "\n",
       "                                             features  \n",
       "1                                                (1,)  \n",
       "2                                              (1, 3)  \n",
       "3                                          (1, 3, 12)  \n",
       "4                                       (0, 1, 3, 12)  \n",
       "5                                   (0, 1, 3, 12, 14)  \n",
       "6                               (0, 1, 3, 11, 12, 14)  \n",
       "7                            (0, 1, 3, 7, 11, 12, 14)  \n",
       "8                         (0, 1, 3, 7, 9, 11, 12, 14)  \n",
       "9                      (0, 1, 2, 3, 7, 9, 11, 12, 14)  \n",
       "10                  (0, 1, 2, 3, 5, 7, 9, 11, 12, 14)  \n",
       "11              (0, 1, 2, 3, 5, 7, 9, 11, 12, 13, 14)  \n",
       "12           (0, 1, 2, 3, 4, 5, 7, 9, 11, 12, 13, 14)  \n",
       "13       (0, 1, 2, 3, 4, 5, 7, 9, 10, 11, 12, 13, 14)  \n",
       "14    (0, 1, 2, 3, 4, 5, 6, 7, 9, 10, 11, 12, 13, 14)  \n",
       "15  (0, 1, 2, 3, 4, 5, 6, 7, 8, 9, 10, 11, 12, 13,...  "
      ]
     },
     "execution_count": 54,
     "metadata": {},
     "output_type": "execute_result"
    }
   ],
   "source": [
    "models"
   ]
  },
  {
   "cell_type": "code",
   "execution_count": 55,
   "metadata": {
    "scrolled": false
   },
   "outputs": [
    {
     "data": {
      "text/plain": [
       "[<matplotlib.lines.Line2D at 0x1c18d43390>]"
      ]
     },
     "execution_count": 55,
     "metadata": {},
     "output_type": "execute_result"
    },
    {
     "data": {
      "image/png": "[encoded data removed]",
      "text/plain": [
       "<matplotlib.figure.Figure at 0x1c18d43710>"
      ]
     },
     "metadata": {},
     "output_type": "display_data"
    }
   ],
   "source": [
    "plt.plot(models['MSE_train'])\n",
    "plt.plot(models['MSE_train'].idxmin(),models['MSE_train'].min(), \"or\")"
   ]
  },
  {
   "cell_type": "markdown",
   "metadata": {},
   "source": [
    "## (d)"
   ]
  },
  {
   "cell_type": "code",
   "execution_count": 56,
   "metadata": {},
   "outputs": [
    {
     "data": {
      "text/plain": [
       "[<matplotlib.lines.Line2D at 0x1c18a07c18>]"
      ]
     },
     "execution_count": 56,
     "metadata": {},
     "output_type": "execute_result"
    },
    {
     "data": {
      "image/png": "[encoded data removed]",
      "text/plain": [
       "<matplotlib.figure.Figure at 0x1c18e29400>"
      ]
     },
     "metadata": {},
     "output_type": "display_data"
    }
   ],
   "source": [
    "plt.plot(models['MSE_test'])\n",
    "plt.plot(models['MSE_test'].idxmin(),models['MSE_test'].min(), \"or\")"
   ]
  },
  {
   "cell_type": "markdown",
   "metadata": {},
   "source": [
    "## (e)\n",
    "model with 13 predictors."
   ]
  },
  {
   "cell_type": "markdown",
   "metadata": {},
   "source": [
    "## (f)"
   ]
  },
  {
   "cell_type": "code",
   "execution_count": 81,
   "metadata": {},
   "outputs": [
    {
     "data": {
      "text/html": [
       "<div>\n",
       "<style scoped>\n",
       "    .dataframe tbody tr th:only-of-type {\n",
       "        vertical-align: middle;\n",
       "    }\n",
       "\n",
       "    .dataframe tbody tr th {\n",
       "        vertical-align: top;\n",
       "    }\n",
       "\n",
       "    .dataframe thead th {\n",
       "        text-align: right;\n",
       "    }\n",
       "</style>\n",
       "<table border=\"1\" class=\"dataframe\">\n",
       "  <thead>\n",
       "    <tr style=\"text-align: right;\">\n",
       "      <th></th>\n",
       "      <th>model</th>\n",
       "      <th>true</th>\n",
       "    </tr>\n",
       "  </thead>\n",
       "  <tbody>\n",
       "    <tr>\n",
       "      <th>0</th>\n",
       "      <td>-1.793899</td>\n",
       "      <td>-2</td>\n",
       "    </tr>\n",
       "    <tr>\n",
       "      <th>1</th>\n",
       "      <td>2.083488</td>\n",
       "      <td>2</td>\n",
       "    </tr>\n",
       "    <tr>\n",
       "      <th>2</th>\n",
       "      <td>-1.204322</td>\n",
       "      <td>-1</td>\n",
       "    </tr>\n",
       "    <tr>\n",
       "      <th>3</th>\n",
       "      <td>-2.678047</td>\n",
       "      <td>-3</td>\n",
       "    </tr>\n",
       "    <tr>\n",
       "      <th>4</th>\n",
       "      <td>0.967892</td>\n",
       "      <td>1</td>\n",
       "    </tr>\n",
       "    <tr>\n",
       "      <th>5</th>\n",
       "      <td>-1.042989</td>\n",
       "      <td>-1</td>\n",
       "    </tr>\n",
       "    <tr>\n",
       "      <th>6</th>\n",
       "      <td>0.000000</td>\n",
       "      <td>0</td>\n",
       "    </tr>\n",
       "    <tr>\n",
       "      <th>7</th>\n",
       "      <td>1.140474</td>\n",
       "      <td>1</td>\n",
       "    </tr>\n",
       "    <tr>\n",
       "      <th>8</th>\n",
       "      <td>0.000000</td>\n",
       "      <td>0</td>\n",
       "    </tr>\n",
       "    <tr>\n",
       "      <th>9</th>\n",
       "      <td>1.059123</td>\n",
       "      <td>1</td>\n",
       "    </tr>\n",
       "    <tr>\n",
       "      <th>10</th>\n",
       "      <td>0.794335</td>\n",
       "      <td>1</td>\n",
       "    </tr>\n",
       "    <tr>\n",
       "      <th>11</th>\n",
       "      <td>1.209050</td>\n",
       "      <td>1</td>\n",
       "    </tr>\n",
       "    <tr>\n",
       "      <th>12</th>\n",
       "      <td>-2.067109</td>\n",
       "      <td>-2</td>\n",
       "    </tr>\n",
       "    <tr>\n",
       "      <th>13</th>\n",
       "      <td>-1.175118</td>\n",
       "      <td>-1</td>\n",
       "    </tr>\n",
       "    <tr>\n",
       "      <th>14</th>\n",
       "      <td>-2.077793</td>\n",
       "      <td>-2</td>\n",
       "    </tr>\n",
       "  </tbody>\n",
       "</table>\n",
       "</div>"
      ],
      "text/plain": [
       "       model  true\n",
       "0  -1.793899    -2\n",
       "1   2.083488     2\n",
       "2  -1.204322    -1\n",
       "3  -2.678047    -3\n",
       "4   0.967892     1\n",
       "5  -1.042989    -1\n",
       "6   0.000000     0\n",
       "7   1.140474     1\n",
       "8   0.000000     0\n",
       "9   1.059123     1\n",
       "10  0.794335     1\n",
       "11  1.209050     1\n",
       "12 -2.067109    -2\n",
       "13 -1.175118    -1\n",
       "14 -2.077793    -2"
      ]
     },
     "execution_count": 81,
     "metadata": {},
     "output_type": "execute_result"
    }
   ],
   "source": [
    "# Construct coefficients 'coefs'. coefficients not used in the model\n",
    "# are set to zero.\n",
    "coefs = np.zeros(15)\n",
    "for i, beta_num in enumerate(models.loc[13, 'features']):\n",
    "    coefs[beta_num] = models.loc[13,'model'].coef_[i]\n",
    "    \n",
    "result = pd.DataFrame({'model':coefs, 'true':beta})\n",
    "result"
   ]
  },
  {
   "cell_type": "markdown",
   "metadata": {},
   "source": [
    "## (g)"
   ]
  },
  {
   "cell_type": "code",
   "execution_count": 87,
   "metadata": {
    "collapsed": true
   },
   "outputs": [],
   "source": [
    "norms = []\n",
    "for model_num in range(1,16):\n",
    "    coefs = np.zeros(15)\n",
    "    for i, beta_num in enumerate(models.loc[model_num, 'features']):\n",
    "        coefs[beta_num] = models.loc[model_num,'model'].coef_[i]\n",
    "        \n",
    "    norm = np.sqrt(((coefs - beta)**2).sum())\n",
    "    norms.append(norm)\n",
    "\n",
    "norms = pd.DataFrame({'norm':norms}, index=np.arange(1,16))"
   ]
  },
  {
   "cell_type": "code",
   "execution_count": 90,
   "metadata": {},
   "outputs": [
    {
     "data": {
      "text/plain": [
       "[<matplotlib.lines.Line2D at 0x1c18e14a58>]"
      ]
     },
     "execution_count": 90,
     "metadata": {},
     "output_type": "execute_result"
    },
    {
     "data": {
      "image/png": "[encoded data removed]",
      "text/plain": [
       "<matplotlib.figure.Figure at 0x1c18e62630>"
      ]
     },
     "metadata": {},
     "output_type": "display_data"
    }
   ],
   "source": [
    "plt.plot(norms['norm'])\n",
    "plt.plot(norms['norm'].idxmin(), norms['norm'].min(), \"or\")"
   ]
  },
  {
   "cell_type": "markdown",
   "metadata": {},
   "source": [
    "Minimizing $\\sqrt{\\sum_{j=1}^{p} (\\beta_{j}-\\beta_{j}^{r})^{2}}$ gives the same result obtained by minimizing the test MSE."
   ]
  },
  {
   "cell_type": "markdown",
   "metadata": {},
   "source": [
    "# 11\n",
    "Do it yourself."
   ]
  }
 ],
 "metadata": {
  "kernelspec": {
   "display_name": "Python 3",
   "language": "python",
   "name": "python3"
  },
  "language_info": {
   "codemirror_mode": {
    "name": "ipython",
    "version": 3
   },
   "file_extension": ".py",
   "mimetype": "text/x-python",
   "name": "python",
   "nbconvert_exporter": "python",
   "pygments_lexer": "ipython3",
   "version": "3.6.3"
  }
 },
 "nbformat": 4,
 "nbformat_minor": 2
}
