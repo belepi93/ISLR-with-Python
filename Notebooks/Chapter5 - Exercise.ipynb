{
 "cells": [
  {
   "cell_type": "markdown",
   "metadata": {},
   "source": [
    "# Chapter5 - Exercise"
   ]
  },
  {
   "cell_type": "code",
   "execution_count": 81,
   "metadata": {
    "collapsed": true
   },
   "outputs": [],
   "source": [
    "import pandas as pd\n",
    "import numpy as np\n",
    "from pandas import Series, DataFrame\n",
    "import matplotlib.pyplot as plt\n",
    "import seaborn as sns\n",
    "\n",
    "import sklearn.linear_model as skl_lm\n",
    "from sklearn.metrics import mean_squared_error\n",
    "from sklearn.model_selection import train_test_split, LeaveOneOut, KFold, RepeatedKFold, cross_val_score\n",
    "from sklearn.preprocessing import PolynomialFeatures\n",
    "\n",
    "import statsmodels.api as sm\n",
    "import statsmodels.formula.api as smf\n",
    "\n",
    "%matplotlib inline\n",
    "plt.style.use('seaborn-whitegrid')"
   ]
  },
  {
   "cell_type": "markdown",
   "metadata": {},
   "source": [
    "# 1\n",
    "Use $Var(aX_{1}+bX_{2}) = a^{2}Var(X_{1}) + b^{2}Var(X_{2}) + 2abCov(X_{1},X_{2})$ and differentiate with $\\alpha$"
   ]
  },
  {
   "cell_type": "markdown",
   "metadata": {},
   "source": [
    "# 2"
   ]
  },
  {
   "cell_type": "markdown",
   "metadata": {},
   "source": [
    "## (a)\n",
    "$ 1 - \\dfrac{1}{n}$\n",
    "Since the probability of selecting one observation is $\\dfrac{1}{n}$, the probability that the first bootstrap observation is not the jth observation is $ 1 - \\dfrac{1}{n}$\n",
    "## (b)\n",
    "$ 1 - \\dfrac{1}{n}$\n",
    "Since bootstrap resampling is **with** replacement, the probability of selecting one observation is same as above.\n",
    "## (c)\n",
    "Since every observation is independent from each ohter and probability is same, $(1-\\dfrac{1}{n})^{n}$ is the probability that the jth observation is not in the bootstrap sample."
   ]
  },
  {
   "cell_type": "markdown",
   "metadata": {},
   "source": [
    "## (d)\n",
    "Then, the probability that the jth observation is not in the bootstrap sample is $1-(1-\\dfrac{1}{n})^{n}$"
   ]
  },
  {
   "cell_type": "code",
   "execution_count": 82,
   "metadata": {
    "collapsed": true
   },
   "outputs": [],
   "source": [
    "def calc(n):\n",
    "    return 1 - np.power((1-1/n),n)"
   ]
  },
  {
   "cell_type": "code",
   "execution_count": 83,
   "metadata": {},
   "outputs": [
    {
     "data": {
      "text/plain": [
       "0.67231999999999992"
      ]
     },
     "execution_count": 83,
     "metadata": {},
     "output_type": "execute_result"
    }
   ],
   "source": [
    "calc(5)"
   ]
  },
  {
   "cell_type": "markdown",
   "metadata": {},
   "source": [
    "## (e)"
   ]
  },
  {
   "cell_type": "code",
   "execution_count": 84,
   "metadata": {},
   "outputs": [
    {
     "data": {
      "text/plain": [
       "0.63396765872677086"
      ]
     },
     "execution_count": 84,
     "metadata": {},
     "output_type": "execute_result"
    }
   ],
   "source": [
    "calc(100)"
   ]
  },
  {
   "cell_type": "markdown",
   "metadata": {},
   "source": [
    "## (f)"
   ]
  },
  {
   "cell_type": "code",
   "execution_count": 85,
   "metadata": {},
   "outputs": [
    {
     "data": {
      "text/plain": [
       "0.63213895356702954"
      ]
     },
     "execution_count": 85,
     "metadata": {},
     "output_type": "execute_result"
    }
   ],
   "source": [
    "calc(10000)"
   ]
  },
  {
   "cell_type": "code",
   "execution_count": 86,
   "metadata": {
    "collapsed": true
   },
   "outputs": [],
   "source": [
    "p_list = []\n",
    "for n in range(100000):\n",
    "    p_list.append(calc(n+1))"
   ]
  },
  {
   "cell_type": "code",
   "execution_count": 87,
   "metadata": {},
   "outputs": [
    {
     "data": {
      "text/plain": [
       "[<matplotlib.lines.Line2D at 0x1c0eef77f0>]"
      ]
     },
     "execution_count": 87,
     "metadata": {},
     "output_type": "execute_result"
    },
    {
     "data": {
      "image/png": "[encoded data removed]",
      "text/plain": [
       "<matplotlib.figure.Figure at 0x1c199a0a90>"
      ]
     },
     "metadata": {},
     "output_type": "display_data"
    }
   ],
   "source": [
    "plt.plot(range(100000),p_list)"
   ]
  },
  {
   "cell_type": "markdown",
   "metadata": {},
   "source": [
    "The probability that the jth observation is in the bootstrap sample converges to 0.6321\n",
    "## (h)"
   ]
  },
  {
   "cell_type": "code",
   "execution_count": 88,
   "metadata": {},
   "outputs": [
    {
     "data": {
      "text/plain": [
       "0.63019999999999998"
      ]
     },
     "execution_count": 88,
     "metadata": {},
     "output_type": "execute_result"
    }
   ],
   "source": [
    "# repeat bootstrap 10000 times\n",
    "np.random.seed(1)\n",
    "store = np.zeros(10000)\n",
    "for i in range(10000):\n",
    "    store[i] = 4 in np.random.choice(100,100)\n",
    "np.mean(store)"
   ]
  },
  {
   "cell_type": "code",
   "execution_count": 89,
   "metadata": {},
   "outputs": [
    {
     "data": {
      "text/plain": [
       "0.63424999999999998"
      ]
     },
     "execution_count": 89,
     "metadata": {},
     "output_type": "execute_result"
    }
   ],
   "source": [
    "# repeat bootstrap 100000 times\n",
    "np.random.seed(1)\n",
    "store = np.zeros(100000)\n",
    "for i in range(100000):\n",
    "    store[i] = 4 in np.random.choice(100,100)\n",
    "np.mean(store)"
   ]
  },
  {
   "cell_type": "markdown",
   "metadata": {},
   "source": [
    "# 3\n",
    "## (a)\n",
    "Cut data into k-fold and index them as 1,2,3,...,k. Then makes ith fold a test set and other folds a training set and makes an estimation and calculate error. Repeat this process for i=1,2,..,k and calculate the score as mean of k errors.\n",
    "## (b)\n",
    "**Validation Set Approach** uses too small data to estimate models which leads to higher bias than k-fold CV. But using this approach will not cause correlation between estimations so their variance will be lower than k-fold CV.\n",
    "\n",
    "**LOOCV** uses large data to estimate model so this will lead to lower bias than k-fold CV. But using LOOCV will cause correlation between estimations so their variance will be higher than k-fold CV.\n",
    "\n",
    "# 4\n",
    "We could use bootstrap method to estimate the standard deviation of our prediction. The bootstrap method works by sampling observations with replacement from original data set B times and fitting a new model. Finally, Calculate RMSE of the estimates for B models.\n",
    "\n",
    "# 5\n",
    "## (a)"
   ]
  },
  {
   "cell_type": "code",
   "execution_count": 90,
   "metadata": {
    "collapsed": true
   },
   "outputs": [],
   "source": [
    "np.random.seed(1)\n",
    "df = pd.read_excel('../Data/Default.xlsx')"
   ]
  },
  {
   "cell_type": "code",
   "execution_count": 91,
   "metadata": {
    "collapsed": true
   },
   "outputs": [],
   "source": [
    "X = df[['balance','income']]\n",
    "y = df['default']"
   ]
  },
  {
   "cell_type": "code",
   "execution_count": 92,
   "metadata": {
    "collapsed": true,
    "scrolled": true
   },
   "outputs": [],
   "source": [
    "logit_a = skl_lm.LogisticRegression(solver='lbfgs').fit(X,y)"
   ]
  },
  {
   "cell_type": "code",
   "execution_count": 93,
   "metadata": {},
   "outputs": [
    {
     "name": "stdout",
     "output_type": "stream",
     "text": [
      "default    No  Yes\n",
      "row_0             \n",
      "No       4839  159\n",
      "Yes         2    0\n",
      "\n",
      "error:  0.0322\n"
     ]
    }
   ],
   "source": [
    "# i.\n",
    "X_train, X_test, y_train, y_test = train_test_split(X, y, test_size=0.5,)\n",
    "\n",
    "# ii.\n",
    "logit_b = skl_lm.LogisticRegression(solver='lbfgs').fit(X_train,y_train)\n",
    "\n",
    "# iii.\n",
    "prob_b = logit_b.predict_proba(X_test)[:,1]\n",
    "pred_default = np.where(prob_b>0.5,\"Yes\",\"No\")\n",
    "\n",
    "# iv.\n",
    "confusion = pd.crosstab(pred_default,y_test)\n",
    "print(confusion)\n",
    "error = (confusion.iloc[0,1] + confusion.iloc[1,0])/len(X_test)\n",
    "print(\"\\nerror: \",error)"
   ]
  },
  {
   "cell_type": "markdown",
   "metadata": {},
   "source": [
    "## (c)"
   ]
  },
  {
   "cell_type": "code",
   "execution_count": 94,
   "metadata": {
    "scrolled": true
   },
   "outputs": [
    {
     "name": "stdout",
     "output_type": "stream",
     "text": [
      "default    No  Yes\n",
      "row_0             \n",
      "No       4812  186\n",
      "Yes         2    0\n",
      "\n",
      "error:  0.0376\n",
      "default    No  Yes\n",
      "row_0             \n",
      "No       4839  159\n",
      "Yes         2    0\n",
      "\n",
      "error:  0.0322\n",
      "default    No  Yes\n",
      "row_0             \n",
      "No       4844  154\n",
      "Yes         2    0\n",
      "\n",
      "error:  0.0312\n"
     ]
    }
   ],
   "source": [
    "for i in range(3):\n",
    "    X_train, X_test, y_train, y_test = train_test_split(X, y, test_size=0.5,\n",
    "                                                       random_state = i)\n",
    "    logit_c = skl_lm.LogisticRegression(solver='lbfgs').fit(X_train,y_train)\n",
    "    prob_c = logit_c.predict_proba(X_test)[:,1]\n",
    "    pred_default = np.where(prob_b>0.5,\"Yes\",\"No\")\n",
    "    \n",
    "    confusion = pd.crosstab(pred_default, y_test)\n",
    "    print(confusion)\n",
    "    error = (confusion.iloc[0,1] + confusion.iloc[1,0])/len(X_test)\n",
    "    print(\"\\nerror: \", error)"
   ]
  },
  {
   "cell_type": "markdown",
   "metadata": {},
   "source": [
    "## (d)"
   ]
  },
  {
   "cell_type": "code",
   "execution_count": 95,
   "metadata": {
    "collapsed": true
   },
   "outputs": [],
   "source": [
    "df['student2'] = np.where(df['student']==\"Yes\",1,0)\n",
    "X = df[['income','balance','student2']]\n",
    "y = df['default']"
   ]
  },
  {
   "cell_type": "code",
   "execution_count": 96,
   "metadata": {},
   "outputs": [
    {
     "name": "stdout",
     "output_type": "stream",
     "text": [
      "default    No  Yes\n",
      "row_0             \n",
      "No       4808  135\n",
      "Yes        28   29\n",
      "\n",
      "error:  0.0326\n"
     ]
    }
   ],
   "source": [
    "# i.\n",
    "X_train, X_test, y_train, y_test = train_test_split(X, y, test_size=0.5)\n",
    "\n",
    "# ii.\n",
    "logit_b = skl_lm.LogisticRegression(solver='lbfgs').fit(X_train,y_train)\n",
    "\n",
    "# iii.\n",
    "prob_b = logit_b.predict_proba(X_test)[:,1]\n",
    "pred_default = np.where(prob_b>0.5,\"Yes\",\"No\")\n",
    "\n",
    "# iv.\n",
    "confusion = pd.crosstab(pred_default,y_test)\n",
    "print(confusion)\n",
    "error = (confusion.iloc[0,1] + confusion.iloc[1,0])/len(X_test)\n",
    "print(\"\\nerror: \",error)"
   ]
  },
  {
   "cell_type": "markdown",
   "metadata": {},
   "source": [
    "Including a dummy variable for `student` does not have meaningful effect on the test error rate."
   ]
  },
  {
   "cell_type": "markdown",
   "metadata": {},
   "source": [
    "# 6\n",
    "## (a)"
   ]
  },
  {
   "cell_type": "code",
   "execution_count": 97,
   "metadata": {
    "collapsed": true
   },
   "outputs": [],
   "source": [
    "np.random.seed(1)\n",
    "X = df[['income', 'balance']]\n",
    "X_1 = sm.add_constant(X)\n",
    "y = np.where(df['default']==\"Yes\",1,0)"
   ]
  },
  {
   "cell_type": "markdown",
   "metadata": {},
   "source": [
    "When using `statsmodels`, you need an workaround if you face \n",
    "\n",
    "**AttributeError: module 'scipy.stats' has no attribute 'chisqprob'**"
   ]
  },
  {
   "cell_type": "code",
   "execution_count": 98,
   "metadata": {
    "collapsed": true
   },
   "outputs": [],
   "source": [
    "from scipy import stats\n",
    "# Workaround\n",
    "stats.chisqprob = lambda chisq, df: stats.chi2.sf(chisq, df)"
   ]
  },
  {
   "cell_type": "code",
   "execution_count": 99,
   "metadata": {},
   "outputs": [
    {
     "name": "stdout",
     "output_type": "stream",
     "text": [
      "Optimization terminated successfully.\n",
      "         Current function value: 0.078948\n",
      "         Iterations 10\n"
     ]
    },
    {
     "data": {
      "text/html": [
       "<table class=\"simpletable\">\n",
       "<caption>Logit Regression Results</caption>\n",
       "<tr>\n",
       "  <th>Dep. Variable:</th>         <td>y</td>        <th>  No. Observations:  </th>   <td> 10000</td>  \n",
       "</tr>\n",
       "<tr>\n",
       "  <th>Model:</th>               <td>Logit</td>      <th>  Df Residuals:      </th>   <td>  9997</td>  \n",
       "</tr>\n",
       "<tr>\n",
       "  <th>Method:</th>               <td>MLE</td>       <th>  Df Model:          </th>   <td>     2</td>  \n",
       "</tr>\n",
       "<tr>\n",
       "  <th>Date:</th>          <td>Wed, 17 Jan 2018</td> <th>  Pseudo R-squ.:     </th>   <td>0.4594</td>  \n",
       "</tr>\n",
       "<tr>\n",
       "  <th>Time:</th>              <td>16:45:58</td>     <th>  Log-Likelihood:    </th>  <td> -789.48</td> \n",
       "</tr>\n",
       "<tr>\n",
       "  <th>converged:</th>           <td>True</td>       <th>  LL-Null:           </th>  <td> -1460.3</td> \n",
       "</tr>\n",
       "<tr>\n",
       "  <th> </th>                      <td> </td>        <th>  LLR p-value:       </th> <td>4.541e-292</td>\n",
       "</tr>\n",
       "</table>\n",
       "<table class=\"simpletable\">\n",
       "<tr>\n",
       "     <td></td>        <th>coef</th>     <th>std err</th>      <th>z</th>      <th>P>|z|</th>  <th>[0.025</th>    <th>0.975]</th>  \n",
       "</tr>\n",
       "<tr>\n",
       "  <th>const</th>   <td>  -11.5405</td> <td>    0.435</td> <td>  -26.544</td> <td> 0.000</td> <td>  -12.393</td> <td>  -10.688</td>\n",
       "</tr>\n",
       "<tr>\n",
       "  <th>income</th>  <td> 2.081e-05</td> <td> 4.99e-06</td> <td>    4.174</td> <td> 0.000</td> <td>  1.1e-05</td> <td> 3.06e-05</td>\n",
       "</tr>\n",
       "<tr>\n",
       "  <th>balance</th> <td>    0.0056</td> <td>    0.000</td> <td>   24.835</td> <td> 0.000</td> <td>    0.005</td> <td>    0.006</td>\n",
       "</tr>\n",
       "</table>"
      ],
      "text/plain": [
       "<class 'statsmodels.iolib.summary.Summary'>\n",
       "\"\"\"\n",
       "                           Logit Regression Results                           \n",
       "==============================================================================\n",
       "Dep. Variable:                      y   No. Observations:                10000\n",
       "Model:                          Logit   Df Residuals:                     9997\n",
       "Method:                           MLE   Df Model:                            2\n",
       "Date:                Wed, 17 Jan 2018   Pseudo R-squ.:                  0.4594\n",
       "Time:                        16:45:58   Log-Likelihood:                -789.48\n",
       "converged:                       True   LL-Null:                       -1460.3\n",
       "                                        LLR p-value:                4.541e-292\n",
       "==============================================================================\n",
       "                 coef    std err          z      P>|z|      [0.025      0.975]\n",
       "------------------------------------------------------------------------------\n",
       "const        -11.5405      0.435    -26.544      0.000     -12.393     -10.688\n",
       "income      2.081e-05   4.99e-06      4.174      0.000     1.1e-05    3.06e-05\n",
       "balance        0.0056      0.000     24.835      0.000       0.005       0.006\n",
       "==============================================================================\n",
       "\n",
       "Possibly complete quasi-separation: A fraction 0.14 of observations can be\n",
       "perfectly predicted. This might indicate that there is complete\n",
       "quasi-separation. In this case some parameters will not be identified.\n",
       "\"\"\""
      ]
     },
     "execution_count": 99,
     "metadata": {},
     "output_type": "execute_result"
    }
   ],
   "source": [
    "est = smf.Logit(y, X_1).fit()\n",
    "est.summary()"
   ]
  },
  {
   "cell_type": "markdown",
   "metadata": {},
   "source": [
    "## (b)"
   ]
  },
  {
   "cell_type": "code",
   "execution_count": 128,
   "metadata": {
    "collapsed": true
   },
   "outputs": [],
   "source": [
    "def boot_fn(data, index):\n",
    "    X = data.loc[index,['income','balance']]\n",
    "    y = data['default']\n",
    "    logit = skl_lm.LogisticRegression(solver='lbfgs', max_iter=400).fit(X,y)\n",
    "    return np.concatenate((logit.intercept_, logit.coef_.ravel()))"
   ]
  },
  {
   "cell_type": "code",
   "execution_count": 121,
   "metadata": {
    "collapsed": true
   },
   "outputs": [],
   "source": [
    "skl_lm.LogisticRegression?"
   ]
  },
  {
   "cell_type": "code",
   "execution_count": 101,
   "metadata": {
    "collapsed": true
   },
   "outputs": [],
   "source": [
    "# Reindex to make index start from 0 instead of 1\n",
    "df.index = range(10000)"
   ]
  },
  {
   "cell_type": "code",
   "execution_count": 102,
   "metadata": {},
   "outputs": [
    {
     "data": {
      "text/plain": [
       "array([ -1.15404781e+01,   2.08091985e-05,   5.64710797e-03])"
      ]
     },
     "execution_count": 102,
     "metadata": {},
     "output_type": "execute_result"
    }
   ],
   "source": [
    "np.concatenate((logit.intercept_, logit.coef_.ravel()))"
   ]
  },
  {
   "cell_type": "code",
   "execution_count": 129,
   "metadata": {
    "collapsed": true
   },
   "outputs": [],
   "source": [
    "B = 50\n",
    "beta_0 = []\n",
    "beta_1 = []\n",
    "beta_2 = []\n",
    "for i in range(B):\n",
    "    coef = boot_fn(df, range(10000))\n",
    "    beta_0.append(coef[0])\n",
    "    beta_1.append(coef[1])\n",
    "    beta_2.append(coef[2])"
   ]
  },
  {
   "cell_type": "code",
   "execution_count": 133,
   "metadata": {
    "scrolled": true
   },
   "outputs": [
    {
     "name": "stdout",
     "output_type": "stream",
     "text": [
      "-11.5404781153\n",
      "2.08091984553e-05\n",
      "0.0056471079692\n",
      "1.7763568394e-15\n",
      "3.38813178902e-21\n",
      "0.0\n"
     ]
    }
   ],
   "source": [
    "print(np.mean(beta_0))\n",
    "print(np.mean(beta_1))\n",
    "print(np.mean(beta_2))\n",
    "print(np.std(beta_0))\n",
    "print(np.std(beta_1))\n",
    "print(np.std(beta_2))"
   ]
  },
  {
   "cell_type": "markdown",
   "metadata": {},
   "source": [
    "## (d)\n",
    "Their errors are almost the same as the result from `LogisticRegression`\n",
    "# 7\n",
    "## (a)"
   ]
  },
  {
   "cell_type": "code",
   "execution_count": 110,
   "metadata": {
    "collapsed": true
   },
   "outputs": [],
   "source": [
    "weekly = pd.read_csv(\"../Data/Weekly.csv\")"
   ]
  },
  {
   "cell_type": "code",
   "execution_count": 144,
   "metadata": {},
   "outputs": [
    {
     "name": "stdout",
     "output_type": "stream",
     "text": [
      "[ 0.22122502] [[-0.03869814  0.06020749]]\n"
     ]
    }
   ],
   "source": [
    "X = weekly[['Lag1', 'Lag2']]\n",
    "y = weekly['Direction']\n",
    "\n",
    "logit = skl_lm.LogisticRegression(solver='newton-cg', max_iter=400).fit(X,y)\n",
    "print(logit.intercept_, logit.coef_)"
   ]
  },
  {
   "cell_type": "markdown",
   "metadata": {},
   "source": [
    "## (b)"
   ]
  },
  {
   "cell_type": "code",
   "execution_count": 147,
   "metadata": {},
   "outputs": [
    {
     "name": "stdout",
     "output_type": "stream",
     "text": [
      "[ 0.22324404] [[-0.03840931  0.06080634]]\n"
     ]
    }
   ],
   "source": [
    "logit = skl_lm.LogisticRegression(solver='newton-cg', max_iter=400)\n",
    "logit = logit.fit(X.drop(0),y.drop(0))\n",
    "print(logit.intercept_, logit.coef_)"
   ]
  },
  {
   "cell_type": "markdown",
   "metadata": {},
   "source": [
    "## (c)"
   ]
  },
  {
   "cell_type": "code",
   "execution_count": 164,
   "metadata": {},
   "outputs": [
    {
     "name": "stdout",
     "output_type": "stream",
     "text": [
      "Prediction: Up\n",
      "True: Down\n"
     ]
    }
   ],
   "source": [
    "pred = logit.predict_proba(X.iloc[0].values.reshape(-1,2))[0][1]\n",
    "pred = \"Up\" if pred > 0.5 else \"Down\"\n",
    "print(\"Prediction:\",pred)\n",
    "print(\"True:\",y[0])"
   ]
  },
  {
   "cell_type": "markdown",
   "metadata": {},
   "source": [
    "## (d)"
   ]
  },
  {
   "cell_type": "code",
   "execution_count": 179,
   "metadata": {
    "collapsed": true
   },
   "outputs": [],
   "source": [
    "n = len(weekly)\n",
    "error_list = []\n",
    "for i in range(n):\n",
    "    logit = (skl_lm.LogisticRegression(solver='newton-cg', max_iter=400)\n",
    "             .fit(X.drop(0),y.drop(0)))\n",
    "    pred = logit.predict_proba(X.iloc[i].values.reshape(-1,2))[0][1]\n",
    "    pred = \"Up\" if pred > 0.5 else \"Down\"\n",
    "    if pred == y[i]:\n",
    "        error_list.append(0)\n",
    "    else:\n",
    "        error_list.append(1)"
   ]
  },
  {
   "cell_type": "markdown",
   "metadata": {},
   "source": [
    "## (e)"
   ]
  },
  {
   "cell_type": "code",
   "execution_count": 181,
   "metadata": {},
   "outputs": [
    {
     "data": {
      "text/plain": [
       "0.44352617079889806"
      ]
     },
     "execution_count": 181,
     "metadata": {},
     "output_type": "execute_result"
    }
   ],
   "source": [
    "np.mean(error_list)"
   ]
  },
  {
   "cell_type": "markdown",
   "metadata": {},
   "source": [
    "As you can see, error rate is quite high in this LOOCV classification."
   ]
  },
  {
   "cell_type": "markdown",
   "metadata": {},
   "source": [
    "# 8\n",
    "## (a)"
   ]
  },
  {
   "cell_type": "code",
   "execution_count": 222,
   "metadata": {
    "collapsed": true
   },
   "outputs": [],
   "source": [
    "np.random.seed(123)\n",
    "x = np.random.randn(100).reshape(-1,1)\n",
    "y = x -2*(x**2) + np.random.randn(100).reshape(-1,1)"
   ]
  },
  {
   "cell_type": "markdown",
   "metadata": {},
   "source": [
    "$Y=X-2X^{2}+\\epsilon$\n",
    "\n",
    "n = 100, p =2\n",
    "## (b)\n",
    "As you can see below, there is a quadratic relation between x and y."
   ]
  },
  {
   "cell_type": "code",
   "execution_count": 223,
   "metadata": {},
   "outputs": [
    {
     "data": {
      "text/plain": [
       "<matplotlib.axes._subplots.AxesSubplot at 0x1c1b1d0ba8>"
      ]
     },
     "execution_count": 223,
     "metadata": {},
     "output_type": "execute_result"
    },
    {
     "data": {
      "image/png": "[encoded data removed]",
      "text/plain": [
       "<matplotlib.figure.Figure at 0x1c1b544240>"
      ]
     },
     "metadata": {},
     "output_type": "display_data"
    }
   ],
   "source": [
    "sns.regplot(x,y,fit_reg=False)"
   ]
  },
  {
   "cell_type": "markdown",
   "metadata": {},
   "source": [
    "# (c)"
   ]
  },
  {
   "cell_type": "code",
   "execution_count": 224,
   "metadata": {},
   "outputs": [
    {
     "data": {
      "text/plain": [
       "[-10.89688256879475,\n",
       " -0.99317809310085992,\n",
       " -1.0305435813881334,\n",
       " -1.0326490105433541]"
      ]
     },
     "execution_count": 224,
     "metadata": {},
     "output_type": "execute_result"
    }
   ],
   "source": [
    "np.random.seed(1)\n",
    "\n",
    "p_order = np.arange(1,5) # 1,2,3,4\n",
    "\n",
    "regr = skl_lm.LinearRegression()\n",
    "loo = LeaveOneOut()\n",
    "scores = list()\n",
    "\n",
    "for i in p_order:\n",
    "    poly = PolynomialFeatures(i)\n",
    "    X_poly = poly.fit_transform(x)\n",
    "    score = cross_val_score(regr, X_poly, y, cv=loo,\n",
    "                            scoring='neg_mean_squared_error').mean()\n",
    "    scores.append(score)\n",
    "    \n",
    "scores"
   ]
  },
  {
   "cell_type": "markdown",
   "metadata": {},
   "source": [
    "## (d)"
   ]
  },
  {
   "cell_type": "code",
   "execution_count": 225,
   "metadata": {},
   "outputs": [
    {
     "data": {
      "text/plain": [
       "[-10.89688256879475,\n",
       " -0.99317809310085992,\n",
       " -1.0305435813881334,\n",
       " -1.0326490105433541]"
      ]
     },
     "execution_count": 225,
     "metadata": {},
     "output_type": "execute_result"
    }
   ],
   "source": [
    "np.random.seed(2)\n",
    "\n",
    "p_order = np.arange(1,5) # 1,2,3,4\n",
    "\n",
    "regr = skl_lm.LinearRegression()\n",
    "loo = LeaveOneOut()\n",
    "scores = list()\n",
    "\n",
    "for i in p_order:\n",
    "    poly = PolynomialFeatures(i)\n",
    "    X_poly = poly.fit_transform(x)\n",
    "    score = cross_val_score(regr, X_poly, y, cv=loo,\n",
    "                            scoring='neg_mean_squared_error').mean()\n",
    "    scores.append(score)\n",
    "\n",
    "scores"
   ]
  },
  {
   "cell_type": "markdown",
   "metadata": {},
   "source": [
    "Since LOOCV calculate every estimates for n folds, there is no role for random number generator. So the results are the same as what i got in (d)."
   ]
  },
  {
   "cell_type": "markdown",
   "metadata": {},
   "source": [
    "## (e)\n",
    "Quadratic model (ii) had the smallest LOOCV error. This reflects the fact that true relationship between x and y are quadratic. Sometimes you might show that (iiii) had the smallest LOOCV but their error rates are quite similar to each other."
   ]
  },
  {
   "cell_type": "markdown",
   "metadata": {},
   "source": [
    "## (f)"
   ]
  },
  {
   "cell_type": "code",
   "execution_count": 233,
   "metadata": {
    "collapsed": true
   },
   "outputs": [],
   "source": [
    "df = DataFrame({'y':y.ravel(), 'x':x.ravel()})"
   ]
  },
  {
   "cell_type": "code",
   "execution_count": 237,
   "metadata": {},
   "outputs": [
    {
     "data": {
      "text/html": [
       "<table class=\"simpletable\">\n",
       "<tr>\n",
       "      <td></td>         <th>coef</th>     <th>std err</th>      <th>t</th>      <th>P>|t|</th>  <th>[0.025</th>    <th>0.975]</th>  \n",
       "</tr>\n",
       "<tr>\n",
       "  <th>Intercept</th> <td>   -2.5615</td> <td>    0.319</td> <td>   -8.028</td> <td> 0.000</td> <td>   -3.195</td> <td>   -1.928</td>\n",
       "</tr>\n",
       "<tr>\n",
       "  <th>x</th>         <td>    0.8013</td> <td>    0.283</td> <td>    2.834</td> <td> 0.006</td> <td>    0.240</td> <td>    1.362</td>\n",
       "</tr>\n",
       "</table>"
      ],
      "text/plain": [
       "<class 'statsmodels.iolib.table.SimpleTable'>"
      ]
     },
     "execution_count": 237,
     "metadata": {},
     "output_type": "execute_result"
    }
   ],
   "source": [
    "# (i)\n",
    "est = smf.ols('y ~ x', df).fit()\n",
    "est.summary().tables[1]"
   ]
  },
  {
   "cell_type": "code",
   "execution_count": 238,
   "metadata": {},
   "outputs": [
    {
     "data": {
      "text/html": [
       "<table class=\"simpletable\">\n",
       "<tr>\n",
       "         <td></td>           <th>coef</th>     <th>std err</th>      <th>t</th>      <th>P>|t|</th>  <th>[0.025</th>    <th>0.975]</th>  \n",
       "</tr>\n",
       "<tr>\n",
       "  <th>Intercept</th>      <td>    0.0149</td> <td>    0.130</td> <td>    0.115</td> <td> 0.909</td> <td>   -0.242</td> <td>    0.272</td>\n",
       "</tr>\n",
       "<tr>\n",
       "  <th>x</th>              <td>    0.9858</td> <td>    0.087</td> <td>   11.277</td> <td> 0.000</td> <td>    0.812</td> <td>    1.159</td>\n",
       "</tr>\n",
       "<tr>\n",
       "  <th>np.power(x, 2)</th> <td>   -2.0267</td> <td>    0.066</td> <td>  -30.546</td> <td> 0.000</td> <td>   -2.158</td> <td>   -1.895</td>\n",
       "</tr>\n",
       "</table>"
      ],
      "text/plain": [
       "<class 'statsmodels.iolib.table.SimpleTable'>"
      ]
     },
     "execution_count": 238,
     "metadata": {},
     "output_type": "execute_result"
    }
   ],
   "source": [
    "# (ii)\n",
    "est = smf.ols('y ~ x + np.power(x,2)', df).fit()\n",
    "est.summary().tables[1]"
   ]
  },
  {
   "cell_type": "code",
   "execution_count": 239,
   "metadata": {},
   "outputs": [
    {
     "data": {
      "text/html": [
       "<table class=\"simpletable\">\n",
       "<tr>\n",
       "         <td></td>           <th>coef</th>     <th>std err</th>      <th>t</th>      <th>P>|t|</th>  <th>[0.025</th>    <th>0.975]</th>  \n",
       "</tr>\n",
       "<tr>\n",
       "  <th>Intercept</th>      <td>    0.0140</td> <td>    0.131</td> <td>    0.106</td> <td> 0.916</td> <td>   -0.247</td> <td>    0.275</td>\n",
       "</tr>\n",
       "<tr>\n",
       "  <th>x</th>              <td>    0.9788</td> <td>    0.157</td> <td>    6.250</td> <td> 0.000</td> <td>    0.668</td> <td>    1.290</td>\n",
       "</tr>\n",
       "<tr>\n",
       "  <th>np.power(x, 2)</th> <td>   -2.0261</td> <td>    0.068</td> <td>  -29.954</td> <td> 0.000</td> <td>   -2.160</td> <td>   -1.892</td>\n",
       "</tr>\n",
       "<tr>\n",
       "  <th>np.power(x, 3)</th> <td>    0.0023</td> <td>    0.043</td> <td>    0.054</td> <td> 0.957</td> <td>   -0.083</td> <td>    0.087</td>\n",
       "</tr>\n",
       "</table>"
      ],
      "text/plain": [
       "<class 'statsmodels.iolib.table.SimpleTable'>"
      ]
     },
     "execution_count": 239,
     "metadata": {},
     "output_type": "execute_result"
    }
   ],
   "source": [
    "# (iii)\n",
    "est = smf.ols('y ~ x + np.power(x,2) + np.power(x,3)', df).fit()\n",
    "est.summary().tables[1]"
   ]
  },
  {
   "cell_type": "code",
   "execution_count": 240,
   "metadata": {},
   "outputs": [
    {
     "data": {
      "text/html": [
       "<table class=\"simpletable\">\n",
       "<tr>\n",
       "         <td></td>           <th>coef</th>     <th>std err</th>      <th>t</th>      <th>P>|t|</th>  <th>[0.025</th>    <th>0.975]</th>  \n",
       "</tr>\n",
       "<tr>\n",
       "  <th>Intercept</th>      <td>   -0.0953</td> <td>    0.163</td> <td>   -0.584</td> <td> 0.561</td> <td>   -0.420</td> <td>    0.229</td>\n",
       "</tr>\n",
       "<tr>\n",
       "  <th>x</th>              <td>    1.0143</td> <td>    0.160</td> <td>    6.358</td> <td> 0.000</td> <td>    0.698</td> <td>    1.331</td>\n",
       "</tr>\n",
       "<tr>\n",
       "  <th>np.power(x, 2)</th> <td>   -1.8287</td> <td>    0.188</td> <td>   -9.722</td> <td> 0.000</td> <td>   -2.202</td> <td>   -1.455</td>\n",
       "</tr>\n",
       "<tr>\n",
       "  <th>np.power(x, 3)</th> <td>   -0.0168</td> <td>    0.046</td> <td>   -0.366</td> <td> 0.715</td> <td>   -0.108</td> <td>    0.074</td>\n",
       "</tr>\n",
       "<tr>\n",
       "  <th>np.power(x, 4)</th> <td>   -0.0366</td> <td>    0.033</td> <td>   -1.125</td> <td> 0.264</td> <td>   -0.101</td> <td>    0.028</td>\n",
       "</tr>\n",
       "</table>"
      ],
      "text/plain": [
       "<class 'statsmodels.iolib.table.SimpleTable'>"
      ]
     },
     "execution_count": 240,
     "metadata": {},
     "output_type": "execute_result"
    }
   ],
   "source": [
    "# (iv)\n",
    "est = smf.ols('y ~ x + np.power(x,2) + np.power(x,3) + np.power(x,4)', df).fit()\n",
    "est.summary().tables[1]"
   ]
  },
  {
   "cell_type": "markdown",
   "metadata": {},
   "source": [
    "You can see that linear and quadratic terms are statistically significant, which agrees with the conclusions from CV."
   ]
  },
  {
   "cell_type": "markdown",
   "metadata": {},
   "source": [
    "# 9"
   ]
  },
  {
   "cell_type": "code",
   "execution_count": 241,
   "metadata": {
    "collapsed": true
   },
   "outputs": [],
   "source": [
    "boston = pd.read_csv('../Data/Boston.csv')"
   ]
  },
  {
   "cell_type": "markdown",
   "metadata": {},
   "source": [
    "## (a)"
   ]
  },
  {
   "cell_type": "code",
   "execution_count": 245,
   "metadata": {
    "collapsed": true
   },
   "outputs": [],
   "source": [
    "mu = np.mean(boston.medv)"
   ]
  },
  {
   "cell_type": "markdown",
   "metadata": {},
   "source": [
    "## (b)\n",
    "\n",
    "$Var(\\bar{X}) = Var(\\dfrac{X_{1}+X_{2}+...+X_{n}}{n})=\\dfrac{\\sigma^{2}}{n}$"
   ]
  },
  {
   "cell_type": "code",
   "execution_count": 255,
   "metadata": {},
   "outputs": [
    {
     "name": "stdout",
     "output_type": "stream",
     "text": [
      "0.408456934697\n"
     ]
    }
   ],
   "source": [
    "std_mu = np.std(boston.medv)/np.sqrt(len(boston.medv))\n",
    "print(std_mu)"
   ]
  },
  {
   "cell_type": "markdown",
   "metadata": {},
   "source": [
    "## (c)"
   ]
  },
  {
   "cell_type": "code",
   "execution_count": 260,
   "metadata": {},
   "outputs": [
    {
     "name": "stdout",
     "output_type": "stream",
     "text": [
      "0.3993717381\n"
     ]
    }
   ],
   "source": [
    "np.random.seed(1)\n",
    "B = 200\n",
    "length = len(boston.medv)\n",
    "mu_list = []\n",
    "\n",
    "for i in range(B):\n",
    "    mu_boot = np.mean(boston['medv'][np.random.choice(length,length)])\n",
    "    mu_list.append(mu_boot)\n",
    "    \n",
    "mu_boot = np.mean(mu_list)\n",
    "std_mu_boot = np.std(mu_list)\n",
    "print(std_mu_boot)"
   ]
  },
  {
   "cell_type": "markdown",
   "metadata": {},
   "source": [
    "They are somewhat similar to each other.\n",
    "## (d)"
   ]
  },
  {
   "cell_type": "code",
   "execution_count": 261,
   "metadata": {},
   "outputs": [
    {
     "name": "stdout",
     "output_type": "stream",
     "text": [
      "[21.715892454716126, 23.34972019350527]\n",
      "[21.660504547514719, 23.257991499916116]\n"
     ]
    }
   ],
   "source": [
    "conf_interval = [mu-2*std_mu,mu+2*std_mu]\n",
    "conf_interval_boot = [mu_boot-2*std_mu_boot, mu_boot+2*std_mu_boot]\n",
    "print(conf_interval)\n",
    "print(conf_interval_boot)"
   ]
  },
  {
   "cell_type": "markdown",
   "metadata": {},
   "source": [
    "## (e)"
   ]
  },
  {
   "cell_type": "code",
   "execution_count": 264,
   "metadata": {},
   "outputs": [
    {
     "name": "stdout",
     "output_type": "stream",
     "text": [
      "21.2\n"
     ]
    }
   ],
   "source": [
    "med = np.median(boston.medv)\n",
    "print(med)"
   ]
  },
  {
   "cell_type": "code",
   "execution_count": 266,
   "metadata": {},
   "outputs": [
    {
     "name": "stdout",
     "output_type": "stream",
     "text": [
      "0.378059519124\n"
     ]
    }
   ],
   "source": [
    "np.random.seed(1)\n",
    "B = 200\n",
    "length = len(boston.medv)\n",
    "med_list = []\n",
    "\n",
    "for i in range(B):\n",
    "    med_boot = np.median(boston['medv'][np.random.choice(length,length)])\n",
    "    med_list.append(med_boot)\n",
    "    \n",
    "med_boot = np.mean(med_list)\n",
    "std_med_boot = np.std(med_list)\n",
    "print(std_med_boot)"
   ]
  },
  {
   "cell_type": "markdown",
   "metadata": {},
   "source": [
    "## (f)"
   ]
  },
  {
   "cell_type": "code",
   "execution_count": 268,
   "metadata": {},
   "outputs": [
    {
     "name": "stdout",
     "output_type": "stream",
     "text": [
      "12.75\n"
     ]
    }
   ],
   "source": [
    "ten = np.percentile(boston.medv, 10)\n",
    "print(ten)"
   ]
  },
  {
   "cell_type": "code",
   "execution_count": 270,
   "metadata": {},
   "outputs": [
    {
     "name": "stdout",
     "output_type": "stream",
     "text": [
      "0.452105905734\n"
     ]
    }
   ],
   "source": [
    "np.random.seed(1)\n",
    "B = 200\n",
    "length = len(boston.medv)\n",
    "ten_list = []\n",
    "\n",
    "for i in range(B):\n",
    "    ten_boot = np.percentile(boston['medv'][np.random.choice(length,length)], 10)\n",
    "    ten_list.append(ten_boot)\n",
    "    \n",
    "ten_boot = np.mean(ten_list)\n",
    "std_ten_boot = np.std(ten_list)\n",
    "print(std_ten_boot)"
   ]
  }
 ],
 "metadata": {
  "kernelspec": {
   "display_name": "Python 3",
   "language": "python",
   "name": "python3"
  },
  "language_info": {
   "codemirror_mode": {
    "name": "ipython",
    "version": 3
   },
   "file_extension": ".py",
   "mimetype": "text/x-python",
   "name": "python",
   "nbconvert_exporter": "python",
   "pygments_lexer": "ipython3",
   "version": "3.6.4"
  }
 },
 "nbformat": 4,
 "nbformat_minor": 2
}
